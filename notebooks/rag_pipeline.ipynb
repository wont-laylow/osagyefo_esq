{
 "cells": [
  {
   "cell_type": "code",
   "execution_count": 11,
   "id": "d704d53f",
   "metadata": {},
   "outputs": [],
   "source": [
    "import openai\n",
    "from dotenv import load_dotenv\n",
    "import os\n",
    "from langchain.vectorstores import Chroma\n",
    "import gradio as gr\n",
    "from langchain_community.embeddings.sentence_transformer import SentenceTransformerEmbeddings"
   ]
  },
  {
   "cell_type": "code",
   "execution_count": 12,
   "id": "9a764689",
   "metadata": {},
   "outputs": [],
   "source": [
    "embedding_function = SentenceTransformerEmbeddings(model_name=\"all-MiniLM-L6-v2\")"
   ]
  },
  {
   "cell_type": "code",
   "execution_count": 13,
   "id": "d103f2a3",
   "metadata": {},
   "outputs": [],
   "source": [
    "vector_store = Chroma(\n",
    "    embedding_function=embedding_function,\n",
    "    persist_directory=\"../chroma\",\n",
    "    collection_name=\"osagyefo_v1\",\n",
    ")"
   ]
  },
  {
   "cell_type": "code",
   "execution_count": 14,
   "id": "f490324c",
   "metadata": {},
   "outputs": [],
   "source": [
    "retriever = vector_store.as_retriever(\n",
    "    search_type=\"mmr\",  # Maximal Marginal Relevance\n",
    "    search_kwargs={\"k\": 5, \"lambda_mult\": 0.5}\n",
    ")"
   ]
  },
  {
   "cell_type": "code",
   "execution_count": 15,
   "id": "4f29f277",
   "metadata": {},
   "outputs": [
    {
     "name": "stdout",
     "output_type": "stream",
     "text": [
      "1283\n"
     ]
    }
   ],
   "source": [
    "print(vector_store._collection.count())  "
   ]
  },
  {
   "cell_type": "code",
   "execution_count": 16,
   "id": "c4da7d41",
   "metadata": {},
   "outputs": [
    {
     "data": {
      "text/plain": [
       "[Document(metadata={'chapter_title': 'CHAPTER EIGHT', 'doc_type': 'act', 'total_pages': 115, 'file_name': 'criminal offences act.pdf'}, page_content='CHAPTER EIGHT\\nPublic Nuisance\\nHindering Burials\\n285.   Hindering burial of dead body\\nA person who unlawfully hinders the burial of the d ead body of a person, or without lawful authority\\ndisinters, dissects or harms the dead body of a person, or being under a duty to cause the dead body of a\\nperson to be buried, fails to perform that duty commits a misdemeanour.\\nUnwholesome Food\\n286.   Selling unwholesome food\\nA person who sells, or prepares or offers for sale, as being fit for consumption as food or drink, a thing\\nwhich that person knows or has reason to believe that it is in a condition of putrefaction, adulteration, or\\nother cause, as to be likely to be noxious to health, commits a misdemeanour.\\nNoxious Trade\\n287.   Carrying on of noxious trade, interference with public rights\\nA person who, without lawful authority or excuse, the proof of which lies on that person,\\n            (a)      carries on a noxious, an offensive, or a noisy business at a place, or causes or permits a'),\n",
       " Document(metadata={'file_name': 'criminal offences act.pdf', 'doc_type': 'act', 'chapter_title': 'CHAPTER TWO', 'total_pages': 115}, page_content='it by a voluntary act, done without the skill and care that are reasonably necessary under the\\ncircumstances.\\nIllustrations\\n            1.        A, a woman who does not have knowledge of mi dwifery, acts as a midwife, and through her\\nwant of skill she causes death. Here, if A knew that a properly qualified midwife or surgeon\\ncould be procured, the fact of A so acting without possessing proper sk ill and without a\\nnecessity for so acting, is evidence of neglig ence, although it appears that she did her best.\\nBut if the emergency was sudden, and a prope rly qualified midwife or surgeon could not be\\nprocured, A has not acted negligently, provided she d id the best she could under the\\ncircumstances.\\n              2.          A chemist sells poison so made up as to be liable to be mistaken for a harmless medicine.\\nThis is evidence of negligence.\\n              3.        If the law directs poisons to be sold only in bottles of a particular kind, and the chemist sells'),\n",
       " Document(metadata={'file_name': 'land-act-2020-act-1036.pdf', 'chapter_title': 'Chapter One', 'doc_type': 'act', 'total_pages': 164}, page_content='liable on summary conviction to a fine of not less than five thousand penalty units and not more \\nthan ten thousand penalty units or a term of imprisonment of not less than five years and not \\nmore than ten years or to both. \\n(5) The provisions of the Head of Family (A ccountability) Act, 1985 (P.N.D.C.L. 114) apply \\nto this Act with the necessary modifications. \\n(6) Despite subsection (5), a person shall not bring an action under section 2 of the Head of \\nFamily Accountability Act, 1985 (P.N.D.C.L. 114) against the occupan t of a stool or skin, or \\nagainst a tendana, unless that person \\n19 \\n \\n(a)    has first exhausted the established customary procedure for making the occupant of the \\nstool or the skin or the tendana to render account or maintain records of the stool, skin or clan \\nlands, where a procedure exists; \\n(b)     is qualified under the relevant customary law to bring an action against the occupant; or'),\n",
       " Document(metadata={'chapter_title': 'CHAPTER FIVE', 'total_pages': 115, 'file_name': 'criminal offences act.pdf', 'doc_type': 'act'}, page_content='A person who abducts a child under eighteen years of age commits a misdemeanour.26(26)\\n92.   Definition of abduction\\n(1)  A person commits the criminal offence of abducti on of a child who with intent to deprive a person\\nentitled to the possession or control of the child or w ith intent to cause the child to be carnally known or\\nunnaturally carnally known by any other person\\n            (a)      unlawfully takes the child from the lawful possession, care or charge of a person, or\\n            (b)      detains the child and prevents the child fro m returning to the lawful possession, care or\\ncharge of a person.27(27)\\n(2)  The possession, control, care or charge of a child by a parent, guardian, or any other person\\ncontinues although the child is absent from actual possession, control, care, or charge, if the absence is for\\na special purpose only, and is not intended by  the parent, guardian, or the other person to exclude or'),\n",
       " Document(metadata={'chapter_title': 'Chapter but', 'file_name': 'ghana_constitution.pdf', 'total_pages': 161, 'doc_type': 'constitution'}, page_content='26. CULTURAL RIGHTS AND PRACTICES. \\n(1) Every person is entitled to enjoy, practise, profess, maintain and promote any culture, \\nlanguage, tradition or religion subject to the provisions of this Constitution. \\n(2) All customary practices which dehumanise or are injurious to the physical and mental \\nwell-being of a person are prohibited. \\n27. WOMEN’S RIGHTS. \\n(1) Special care shall be accorded to mothers during a reasonable period before and after \\nchild-birth; and during those periods, working mothers shall be accorded paid leave. \\n(2) Facilities shall be provided for the care of children below school-going age to enable \\nwomen, who have the traditional care for children, realise their full potential. \\n(3) Women shall be guaranteed equal rights to training and promotion without any \\nimpediments from any person. \\n28. CHILDREN’S RIGHTS. \\n(1) Parliament shall enact such laws as are necessary to ensure that—')]"
      ]
     },
     "execution_count": 16,
     "metadata": {},
     "output_type": "execute_result"
    }
   ],
   "source": [
    "retriever.get_relevant_documents(\"my mother did not give me food\")"
   ]
  },
  {
   "cell_type": "code",
   "execution_count": 17,
   "id": "ef4ee092",
   "metadata": {},
   "outputs": [],
   "source": [
    "load_dotenv(override=True)\n",
    "GROQ_API_KEY = os.getenv(\"GROQ_API_KEY\")\n",
    "TOGETHER_API_KEY = os.getenv(\"TOGETHER_API_KEY\")\n",
    "\n",
    "model_1 = \"gemma2-9b-it\"\n",
    "client1 = openai.OpenAI(\n",
    "    base_url=\"https://api.groq.com/openai/v1\",\n",
    "    api_key=os.environ.get(\"GROQ_API_KEY\"),\n",
    ")\n",
    "\n",
    "model_2 = \"meta-llama/Llama-3.3-70B-Instruct-Turbo-Free\"\n",
    "client2 = openai.OpenAI(\n",
    "  api_key=os.environ.get(\"TOGETHER_API_KEY\"),\n",
    "  base_url=\"https://api.together.xyz/v1\",\n",
    ")"
   ]
  },
  {
   "cell_type": "markdown",
   "id": "77eb7e08",
   "metadata": {},
   "source": [
    "PIPELINE"
   ]
  },
  {
   "cell_type": "code",
   "execution_count": 18,
   "id": "7b6f5ac0",
   "metadata": {},
   "outputs": [],
   "source": [
    "\"\"\"\n",
    "LLM 1 will rephrase every question into 3 different similar questions--gemma2-9b-it\n",
    "\n",
    "\"\"\"\n",
    "\n",
    "def rephrase_query(user_query):\n",
    "    pdf_path = \"../docs\"\n",
    "    prompt_path = \"../prompts/rephaser_llm_template.txt\"\n",
    "    \n",
    "    with open(prompt_path, \"r\", encoding=\"utf-8\") as f:\n",
    "        system_prompt = f.read().strip()\n",
    "        system_prompt += \"Your knowledge is limited strictly to the content of the following files:\"\n",
    "        for filename in os.listdir(pdf_path):\n",
    "            system_prompt += filename + \"\\n\"\n",
    "\n",
    "\n",
    "    message = [{'role': \"system\", \"content\": system_prompt}, {'role': \"system\", \"content\": user_query}]\n",
    "    rephrased_query = client1.chat.completions.create(model=model_1, messages=message)\n",
    "    rephrased_query = rephrased_query.choices[0].message.content\n",
    "\n",
    "    return rephrased_query"
   ]
  },
  {
   "cell_type": "code",
   "execution_count": 19,
   "id": "3f49f04f",
   "metadata": {},
   "outputs": [
    {
     "name": "stdout",
     "output_type": "stream",
     "text": [
      "['Negligence resulting in bodily harm by motor vehicle', 'Consequences of an unintentional vehicular collision', 'Liability under Ghanaian law for accidental striking by motor vehicle'] \n",
      "\n"
     ]
    }
   ],
   "source": [
    "# test\n",
    "rephrased_query = rephrase_query(\"i mistakenly hit someone with my car\")\n",
    "print(rephrased_query)\n",
    "\n",
    "context = \"\" \n",
    "relevant_docs = retriever.get_relevant_documents(rephrased_query)\n",
    "\n",
    "for doc in relevant_docs:\n",
    "    context += f\"[Source: {doc.metadata['file_name']}, Chapter: {doc.metadata.get('chapter_title', 'N/A')}]\\n{doc.page_content}\\n\\n\""
   ]
  },
  {
   "cell_type": "code",
   "execution_count": 20,
   "id": "08f93af7",
   "metadata": {},
   "outputs": [
    {
     "data": {
      "text/plain": [
       "'[Source: criminal offences act.pdf, Chapter: CHAPTER EIGHT]\\n(s)        in a town wilfully or negligently causes or pe rmits a vehicle, or a thing carried by the\\nvehicle, or cattle, to damage a drain, ditch, or trench, at the side of a street, or a bridge, or a\\npart of it respectively; or\\n            (t)        in a town, without the written consent of the local authority or the Ghana Highway\\nAuthority, wilfully displaces or takes up or damages the pavement, stones, or material of a\\npublic way, or attempts to change or obstruct an outer course; or91(91)\\n            (u)      assembles with other persons in a public place, or in an open space near a public place, for an\\nidle, a vicious, or a disorderly purpose, or ot herwise than in the regular performance, or in\\npursuance, of a lawful calling or object, to the annoyance or  obstruction of a passenger or\\nperson frequenting the public place, or of a person living in the neighbourhood of the public\\nplace or open space and does not move away when required by a constable; or\\n\\n[Source: criminal offences act.pdf, Chapter: CHAPTER ONE]\\nany other means, a false statement or report which is  likely to injure the credit or reputation of Ghana or\\nthe Government and which that person knows or has r eason to believe is false, commits a second degree\\nfelony.\\n(2)  Subsection (1) does not apply to a statement which is absolutely privileged under section 117.\\n(3)  It is not a defence to a charge under this sec tion that the person charge d did not know or did not\\nhave reason to believe that the statement or repor t was false unless it is proved that, before the\\ncommunication of statement or report; reasonable meas ures were taken to verify  the accuracy of the\\nstatement or report.\\n(4)  A citizen may be tried and punished for an offence under this section whether committed in or\\noutside Ghana.54(54)\\n186.   Aiding or permitting escape of prisoner of war\\n(1)  A person who intentionally and unlawfully ai ds or permits the escape of a prisoner of war\\ncommits a second degree felony.\\n\\n[Source: ghana_constitution.pdf, Chapter: Chapter 8]\\nChapter 8\\n; \\n(g) The Legislature: articles 93 and 106; \\n(h) The Judiciary: articles 125, 127, 129, 145 and 146; \\n(i) Freedom and Independence of the Media: article 162, clauses (1) to (5); \\n(j) Finance: articles 174 and 187; \\n(k) Police Service: article 200; \\n(l) The Armed Forces of Ghana: article 210; \\n(m) Commission on Human Rights and Administrative Justice: articles 216 and 225; \\n(n) National Commission for Civic Education: article 231;. \\n(o) Decentralization and Local Government: articles 240 and 252; \\n(p) Chieftaincy: article 270; \\n(q) Code of Conduct for Public Officers: article 286;  \\n(r) Amendment of the Constitution:\\n\\n[Source: criminal offences act.pdf, Chapter: Chapter One]\\nof the case, is or ought to have known to be plain ly improper, is liable to punishment as if the harm had\\nbeen caused negligently, within the meaning of this Act, and not otherwise.\\nIllustration\\nA surgeon, through gross negligence, amputates a lim b where the necessity to amputate did not arise.\\nThe surgeon is not liable to be convicted of having intentionally and unlawfully caused harm, but is liable\\nto be convicted of having negligently and unlawfully caused harm.\\n83.   Causing harm by hindering escape from wreck\\nA person who intentionally hinders any other person from escaping from a wrecked vessel, or from\\nlawful personal protection or from any other person against harm has, for the purposes of this Act,\\nintentionally caused the harm which happens to that other person by reason of the hindrance.\\n\\n[Source: criminal offences act.pdf, Chapter: CHAPTER THREE]\\nCHAPTER THREE\\nUnlawful Damage\\n172. Causing unlawful damage.\\ngg\\n173. Definition of damage.\\n174. Explanation of unlawful damage.\\n175. Explanation as to amount of damage.\\n176. Poisoning or using dynamite in river.\\n177. Repairs endangering train, vessel or aircraft.\\n178. Intentionally endangering train, vessel or aircraft.\\n179. Interference with signal.\\n\\n'"
      ]
     },
     "execution_count": 20,
     "metadata": {},
     "output_type": "execute_result"
    }
   ],
   "source": [
    "context"
   ]
  },
  {
   "cell_type": "code",
   "execution_count": 31,
   "id": "b94440cb",
   "metadata": {},
   "outputs": [],
   "source": [
    "def chat_osagyefo(user_query, history):\n",
    "    \n",
    "    prompt_path = \"../prompts/main_prompt_template.txt\"\n",
    "\n",
    "    rephrased_query = rephrase_query(user_query)\n",
    "    relevant_docs = retriever.get_relevant_documents(rephrased_query)\n",
    "\n",
    "    print(\"RELEVANT DOCS: \", relevant_docs)\n",
    "    context = ''\n",
    "    for doc in relevant_docs:\n",
    "        context += f\"[Source: {doc.metadata['file_name']}, Chapter: {doc.metadata.get('chapter_title', 'N/A')}]\\n{doc.page_content}\\n\\n\"\n",
    "\n",
    "    # loading the prompt\n",
    "    with open(prompt_path, \"r\", encoding=\"utf-8\") as f:\n",
    "        osagyefo_system_prompt = f.read().strip()\n",
    "    osagyefo_system_prompt += f\"Use the following context to answer:\\n{context}\"\n",
    "\n",
    "\n",
    "    history = [\n",
    "        {'role': h['role'], 'content': h['content'] }\n",
    "        for h in history\n",
    "        if 'role' in h and 'content' in h\n",
    "    ]\n",
    "\n",
    "    msg_to_model = [{\"role\": \"system\", \"content\": osagyefo_system_prompt}] + history + [{\"role\": \"user\", \"content\": user_query}]\n",
    "\n",
    "    model = client2.chat.completions.create(\n",
    "        model=model_2,\n",
    "        messages=msg_to_model,\n",
    "    )\n",
    "\n",
    "    osagyefo_response = model.choices[0].message.content\n",
    "    \n",
    "\n",
    "    history.append({\"role\": \"user\", \"content\": user_query})\n",
    "    history.append({\"role\": \"assistant\", \"content\": osagyefo_response})\n",
    "\n",
    "    print('history', history)\n",
    "    \n",
    "    return osagyefo_response"
   ]
  },
  {
   "cell_type": "code",
   "execution_count": 32,
   "id": "9e508445",
   "metadata": {},
   "outputs": [
    {
     "name": "stderr",
     "output_type": "stream",
     "text": [
      "c:\\Users\\DeLL\\Desktop\\anything_py\\osagyefo_ai\\.venv\\lib\\site-packages\\gradio\\chat_interface.py:339: UserWarning: The 'tuples' format for chatbot messages is deprecated and will be removed in a future version of Gradio. Please set type='messages' instead, which uses openai-style 'role' and 'content' keys.\n",
      "  self.chatbot = Chatbot(\n"
     ]
    }
   ],
   "source": [
    "demo_chatbot = gr.ChatInterface(chat_osagyefo,\n",
    "                                title=\"OSAGYEFO ESQ.\",\n",
    "                                description=\"Welcome! Put forth your legal challenges. \")"
   ]
  },
  {
   "cell_type": "code",
   "execution_count": null,
   "id": "ee9c199c",
   "metadata": {},
   "outputs": [
    {
     "name": "stdout",
     "output_type": "stream",
     "text": [
      "* Running on local URL:  http://127.0.0.1:7863\n",
      "* To create a public link, set `share=True` in `launch()`.\n"
     ]
    },
    {
     "data": {
      "text/html": [
       "<div><iframe src=\"http://127.0.0.1:7863/\" width=\"100%\" height=\"500\" allow=\"autoplay; camera; microphone; clipboard-read; clipboard-write;\" frameborder=\"0\" allowfullscreen></iframe></div>"
      ],
      "text/plain": [
       "<IPython.core.display.HTML object>"
      ]
     },
     "metadata": {},
     "output_type": "display_data"
    },
    {
     "data": {
      "text/plain": []
     },
     "execution_count": 33,
     "metadata": {},
     "output_type": "execute_result"
    },
    {
     "name": "stdout",
     "output_type": "stream",
     "text": [
      "RELEVANT DOCS:  [Document(metadata={'total_pages': 161, 'chapter_title': 'Chapter 25', 'doc_type': 'constitution', 'file_name': 'ghana_constitution.pdf'}, page_content='designate . \\nTHE OFFICIAL OATH  \\nI, ___________________ do (in the name of the Almighty God swear) (solemnly affirm) that \\nI will at all times well and truly serve the Republic of Ghana in the office of \\n____________________ and that I will uphold, preserve, protect and defend the Constitution \\nof the Republic of Ghana as by law established. (So help me God).  \\nTo be sworn before the President or such other person as the President may designate . \\nTHE SPEAKER’S OATH  \\nI, ___________________ do (in the name of the Almighty God swear) (solemnly affirm) that \\nI will bear true faith and allegiance to the Republic of Ghana as by law established; that I will \\nuphold the integrity of the Republic of Ghana; that I will faithfully and conscientiously \\ndischarge my duties as Speaker of Parliament; and that I will uphold, preserve, protect and \\ndefend the Constitution of the Republic of Ghana; and that I will do right to all manner of'), Document(metadata={'file_name': 'criminal offences act.pdf', 'doc_type': 'act', 'chapter_title': 'CHAPTER ONE', 'total_pages': 115}, page_content='“health officer”  includes the Chief Medical Officer, any other medical officer, and a person\\nappointed as health officer;\\n“import” means to import into the Republic;\\n“indictable offence” means an offence punishable on indictment;\\n“judicial proceeding” includes a civil or criminal trial, and an enquiry or investigation held by a\\njudicial officer in pursuance of a duty or an authority;\\n“jury” includes a Justice in cases where a judge, wh ether with or without assessors, tries a case\\nwithout a jury;\\n“Minister” means Minister responsible for Justice;\\n“misdemeanour” shall be construed in accordance with section 296  of the Criminal and other\\nOffences (Procedure) Act, 1960;\\n“night” means the time between the hour of seven in the evening of a day and the hour of six in the\\nfollowing morning;\\n“order” includes a conviction;\\n“peace officer” means a person who is, or is acting as, a c onstable or special constable, or lawfully\\nacting in aid of a constable or special constable;'), Document(metadata={'doc_type': 'act', 'chapter_title': 'CHAPTER TEN', 'total_pages': 115, 'file_name': 'criminal offences act.pdf'}, page_content='command, search a ship or boat hovering about or approaching, or wh ich may have hovered about or\\napproached, a ship of the Republic and may seize the liquor found on her, which shall be forfeited to the\\nRepublic.\\n(3)  An officer or a warrant or petty or non-commi ssioned officer, or a constable, may without warrant\\narrest and detain a person found committing a criminal  offence under this section, and take that person\\nbefore a Magistrate or a Justice to be dealt with according to law.\\nLetters, Telegrams\\n312.   Letter written for illiterate person\\n(1)  A person who writes a letter or petition at the re quest or in the name of an illiterate person shall\\nwrite on the letter or petition that person’s name and address.\\n(2)  The writing of the name and address on the letter or petition implies a statement\\n            (a)      that the letter or petition was written on the instructions of the illiterate person, and'), Document(metadata={'doc_type': 'act', 'total_pages': 115, 'file_name': 'criminal offences act.pdf', 'chapter_title': 'Chapter One'}, page_content='and furnishes the means for that purpose, the wife, servant, or other person so charged is under a duty to\\nsupply them accordingly.\\n(8)  For the purposes of this section, “necessaries of health and life”  includes proper food, clothing,\\nshelter, warmth, medical or surgical treatment, and any other matter which is reasonably necessary for the\\npreservation of the health and life of a person.\\nIllustration\\nSubsection (6)  The father or mother of a child who does not have the means of providing the child\\nwith food or medical attendance, is bound to seek assist ance from an officer appointed to relieve the poor,\\nbut is not bound to beg from private charity.\\n80.   Explanation as to office\\n(1)  Where, under section 78  or 79, a duty is constituted by an office, employment, agreement, or\\nundertaking, the duty is sufficiently constituted in the case of a person\\n            (a)      who is actually discharging the duties belonging to that office or employment, or'), Document(metadata={'file_name': 'criminal offences act.pdf', 'chapter_title': 'Chapter comprising', 'total_pages': 115, 'doc_type': 'act'}, page_content='that a person shall not be tried without the consent of a Superior Police Officer. In view, however, of clause (4) of\\narticle 88 of the Constitution, the word “arrested” has been substituted for the word “tried”.\\n75 (Popup - Footnote)\\n75.        Substituted by section 16 of the Criminal Code (Amendment) Decree, 1969 (N.L.C.D. 398).\\n76 (Popup - Footnote)\\n76.        Inserted by the Criminal Code (Amendment) Law, 1984 (P.N.D.C.L. 90).\\n77 (Popup - Footnote)\\n77.        Amended by section 15 of the Criminal Code (Amendment) Act, 1998 (Act 554).\\n78 (Popup - Footnote)\\n78.        Amended by section 17 of the Criminal Code (Amendment) Decree, 1969 (N.L.C.D. 398) and further\\namended by the Schedule to the Criminal Code (Amendment) Act, 1998 (Act 554).\\n79 (Popup - Footnote)\\n79.        Amended by the Schedule to the Criminal Code (Amendment) Act, 1998 (Act 554).\\n80 (Popup - Footnote)\\n80.        Amended by the Schedule to the Criminal Code (Amendment) Act, 1998 (Act 554).\\n81 (Popup - Footnote)')]\n",
      "history [{'role': 'user', 'content': 'hello Osagyefo'}, {'role': 'assistant', 'content': \"Hello. I'm Osaagyefo, your Ghanaian legal advice chatbot and assistant. I'm here to provide you with accurate and context-aware legal information to empower you. Please note that my responses are not personalized legal advice, and I strongly recommend consulting a qualified attorney for specific situations.\\n\\nAlso, keep in mind that attorney-client privilege does not apply to our conversations, and I'll only use our chats to evaluate my performance. Since laws vary significantly by location, I'll stick to Ghanaian laws and the context provided.\\n\\nWhat's on your mind, and how can I assist you today? Remember, I'm here to educate and inform, not to advocate or advise on specific legal strategies. If you have any questions or concerns, feel free to ask, and I'll do my best to provide you with helpful information.\"}]\n",
      "RELEVANT DOCS:  [Document(metadata={'total_pages': 161, 'doc_type': 'constitution', 'chapter_title': 'Chapter IV', 'file_name': 'ghana_constitution.pdf'}, page_content='Chapter IV\\n-The Laws of Ghana'), Document(metadata={'total_pages': 161, 'chapter_title': 'CHAPTER EIGHT', 'file_name': 'ghana_constitution.pdf', 'doc_type': 'constitution'}, page_content='effective utilisation of available resources; and \\n(e) monitor, evaluate and co-ordinate development policies, programmes and projects. \\n(3) The Commission shall also perform such other functions relating to development planning \\nas the President may direct. \\nThe Attorney-General  \\n88. THE ATTORNEY-GENERAL. \\n(1) There shall be an Attorney-General of Ghana who shall be a Minister of State and the \\nprincipal legal adviser to the Government. \\n(2) The Attorney-General shall discharge such other duties of a legal nature as may be \\nreferred or assigned to him by the President, or imposed on him by this Constitution or any \\nother law. \\n(3) The Attorney-General shall be responsible for the initiation and conduct of all \\nprosecutions of criminal offences. \\n(4) All offences prosecuted in the name of the Republic of Ghana shall be at the suit of the \\nAttorney-General or any other person authorised by him in accordance with any law.'), Document(metadata={'doc_type': 'constitution', 'chapter_title': 'CHAPTER TWO', 'file_name': 'ghana_constitution.pdf', 'total_pages': 161}, page_content='CHAPTER TWO\\nTERRITORIES OF GHANA  \\n4. Territories of Ghana \\n5. Creation, Alteration or Merger of Regions'), Document(metadata={'doc_type': 'act', 'file_name': 'criminal offences act.pdf', 'total_pages': 115, 'chapter_title': 'CHAPTER TEN'}, page_content='Customs, Excise and Preventive Service (Management) Law, 1993 (P.N.D.C.L. 330), or\\n            (i)        without lawful authority, the proof of which lies on that person, sells, receives or deseals\\nsealed cocoa knowing it to belong to the Ghana Co coa Board or to any of its licensed buying\\nagents or any other person, or\\n            (j)        with intent to defraud the Ghana Cocoa Board or any of its licensed buying agents or any\\nother person makes a false declaration about cocoa,\\ncommits a misdemeanour and is liable on summary conviction to a term of imprisonment of not less than\\nfive years and not exceeding ten years, or to a fine  not less than two hundred and fifty penalty units and\\nnot exceeding five thousand penalty units or to  both the fine and to the imprisonment, and the goods in\\nrespect of which the criminal offence has been committed shall be forfeited.105(105)\\n(2)  A person who commits an act referred to in subsection (1)  is, whether or not that person is'), Document(metadata={'chapter_title': 'CHAPTER TWENTY', 'file_name': 'ghana_constitution.pdf', 'doc_type': 'constitution', 'total_pages': 161}, page_content='CHAPTER TWENTY\\nDECENTRALIZATION AND LOCAL GOVERNMENT \\n240. LOCAL GOVERNMENT. \\n(1) Ghana shall have a system of local government and administration which shall, as far as \\npracticable, be decentralized. \\n(2) The system of decentralized local government shall have the following features— \\n(a) Parliament shall enact appropriate laws to ensure that functions, powers, responsibilities \\nand resources are at all times transferred from the Central Government to local government \\nunits in a co-ordinated manner; \\n(b) Parliament shall by law provide for the taking of such measures as are necessary to \\nenhance the capacity of local government authorities to plan, initiate, co-ordinate; manage and \\nexecute policies in respect of all matters affecting the people within their areas, with a view to \\nultimately achieving localization of those activities; \\n(c) there shall be established for each local government unit a sound financial base with \\nadequate and reliable sources of revenue;')]\n",
      "history [{'role': 'user', 'content': 'i saw a guy selling drugs today'}, {'role': 'assistant', 'content': \"I'm troubled to hear that you witnessed someone selling drugs. In Ghana, the sale of drugs is a serious offense under the Narcotics Drugs (Control, Enforcement and Sanctions) Law, 1990 (P.N.D.C.L. 236). \\n\\nAccording to this law, anyone found guilty of selling or distributing narcotics can face severe penalties, including imprisonment. If you have information about the incident, you can report it to the nearest police station or the Narcotics Control Board. \\n\\nIt's essential to prioritize your safety when reporting such incidents. You can also contact the Ghana Police Service hotline or visit their website for more information on how to report crimes anonymously.\\n\\nRemember, as a responsible citizen, reporting such activities can help prevent the spread of drug abuse and promote a safer community. However, it's crucial to avoid taking any actions that might put you in harm's way.\\n\\nThis is not legal advice, and I strongly recommend consulting a qualified attorney or law enforcement professional for specific guidance on handling such situations. Attorney-client privilege does not apply to our conversation, and I encourage you to seek professional counsel for personalized advice. \\n\\nIn Ghana, laws and regulations regarding drug offenses are strict, and it's vital to be aware of your rights and obligations. If you're concerned about the incident or need further assistance, consider reaching out to a legal aid organization or a trusted authority figure for support. \\n\\nPlease document any relevant information, including dates, times, locations, and details about the incident, as this can be helpful when reporting the crime or seeking legal advice. Remember to act quickly, as there may be time limits for reporting certain offenses. \\n\\nFor more information on the laws and regulations surrounding drug offenses in Ghana, you can refer to the Narcotics Drugs (Control, Enforcement and Sanctions) Law, 1990 (P.N.D.C.L. 236) or consult with a legal expert.\"}]\n"
     ]
    }
   ],
   "source": [
    "demo_chatbot.launch()"
   ]
  },
  {
   "cell_type": "code",
   "execution_count": null,
   "id": "667da0f3",
   "metadata": {},
   "outputs": [],
   "source": []
  }
 ],
 "metadata": {
  "kernelspec": {
   "display_name": ".venv",
   "language": "python",
   "name": "python3"
  },
  "language_info": {
   "codemirror_mode": {
    "name": "ipython",
    "version": 3
   },
   "file_extension": ".py",
   "mimetype": "text/x-python",
   "name": "python",
   "nbconvert_exporter": "python",
   "pygments_lexer": "ipython3",
   "version": "3.10.11"
  }
 },
 "nbformat": 4,
 "nbformat_minor": 5
}
