{
 "cells": [
  {
   "cell_type": "code",
   "execution_count": 3,
   "id": "d704d53f",
   "metadata": {},
   "outputs": [],
   "source": [
    "import openai\n",
    "from dotenv import load_dotenv\n",
    "import os\n",
    "from langchain.vectorstores import Chroma\n",
    "from langchain_community.embeddings.sentence_transformer import SentenceTransformerEmbeddings"
   ]
  },
  {
   "cell_type": "code",
   "execution_count": 4,
   "id": "73e2d21a",
   "metadata": {},
   "outputs": [
    {
     "name": "stderr",
     "output_type": "stream",
     "text": [
      "c:\\Users\\DeLL\\Desktop\\anything_py\\osagyefo_ai\\.venv\\lib\\site-packages\\tqdm\\auto.py:21: TqdmWarning: IProgress not found. Please update jupyter and ipywidgets. See https://ipywidgets.readthedocs.io/en/stable/user_install.html\n",
      "  from .autonotebook import tqdm as notebook_tqdm\n"
     ]
    }
   ],
   "source": [
    "import gradio as gr"
   ]
  },
  {
   "cell_type": "code",
   "execution_count": 5,
   "id": "9a764689",
   "metadata": {},
   "outputs": [
    {
     "name": "stderr",
     "output_type": "stream",
     "text": [
      "C:\\Users\\DeLL\\AppData\\Local\\Temp\\ipykernel_20680\\1258215059.py:1: LangChainDeprecationWarning: The class `HuggingFaceEmbeddings` was deprecated in LangChain 0.2.2 and will be removed in 1.0. An updated version of the class exists in the :class:`~langchain-huggingface package and should be used instead. To use it run `pip install -U :class:`~langchain-huggingface` and import as `from :class:`~langchain_huggingface import HuggingFaceEmbeddings``.\n",
      "  embedding_function = SentenceTransformerEmbeddings(model_name=\"all-MiniLM-L6-v2\")\n"
     ]
    }
   ],
   "source": [
    "embedding_function = SentenceTransformerEmbeddings(model_name=\"all-MiniLM-L6-v2\")"
   ]
  },
  {
   "cell_type": "code",
   "execution_count": 6,
   "id": "d103f2a3",
   "metadata": {},
   "outputs": [
    {
     "name": "stderr",
     "output_type": "stream",
     "text": [
      "C:\\Users\\DeLL\\AppData\\Local\\Temp\\ipykernel_20680\\1161908860.py:1: LangChainDeprecationWarning: The class `Chroma` was deprecated in LangChain 0.2.9 and will be removed in 1.0. An updated version of the class exists in the :class:`~langchain-chroma package and should be used instead. To use it run `pip install -U :class:`~langchain-chroma` and import as `from :class:`~langchain_chroma import Chroma``.\n",
      "  vector_store = Chroma(\n"
     ]
    }
   ],
   "source": [
    "vector_store = Chroma(\n",
    "    embedding_function=embedding_function,\n",
    "    persist_directory=\"../chroma\",\n",
    "    collection_name=\"osagyefo_v1\"\n",
    ")"
   ]
  },
  {
   "cell_type": "code",
   "execution_count": 7,
   "id": "f490324c",
   "metadata": {},
   "outputs": [],
   "source": [
    "retriever = vector_store.as_retriever(\n",
    "    search_type=\"mmr\",  # Maximal Marginal Relevance\n",
    "    search_kwargs={\"k\": 5, \"lambda_mult\": 0.5}\n",
    ")"
   ]
  },
  {
   "cell_type": "code",
   "execution_count": 8,
   "id": "4f29f277",
   "metadata": {},
   "outputs": [
    {
     "name": "stdout",
     "output_type": "stream",
     "text": [
      "1323\n"
     ]
    }
   ],
   "source": [
    "print(vector_store._collection.count())  "
   ]
  },
  {
   "cell_type": "code",
   "execution_count": 9,
   "id": "c4da7d41",
   "metadata": {},
   "outputs": [
    {
     "name": "stderr",
     "output_type": "stream",
     "text": [
      "C:\\Users\\DeLL\\AppData\\Local\\Temp\\ipykernel_20680\\3153153935.py:1: LangChainDeprecationWarning: The method `BaseRetriever.get_relevant_documents` was deprecated in langchain-core 0.1.46 and will be removed in 1.0. Use :meth:`~invoke` instead.\n",
      "  retriever.get_relevant_documents(\"my mother did not give me food\")\n"
     ]
    },
    {
     "data": {
      "text/plain": [
       "[Document(metadata={'doc_type': 'act', 'total_pages': 115, 'chapter_title': 'CHAPTER EIGHT', 'file_name': 'criminal offences act.pdf'}, page_content='CHAPTER EIGHT\\nPublic Nuisance\\nHindering Burials\\n285.   Hindering burial of dead body\\nA person who unlawfully hinders the burial of the d ead body of a person, or without lawful authority\\ndisinters, dissects or harms the dead body of a person, or being under a duty to cause the dead body of a\\nperson to be buried, fails to perform that duty commits a misdemeanour.\\nUnwholesome Food\\n286.   Selling unwholesome food\\nA person who sells, or prepares or offers for sale, as being fit for consumption as food or drink, a thing\\nwhich that person knows or has reason to believe that it is in a condition of putrefaction, adulteration, or\\nother cause, as to be likely to be noxious to health, commits a misdemeanour.\\nNoxious Trade\\n287.   Carrying on of noxious trade, interference with public rights\\nA person who, without lawful authority or excuse, the proof of which lies on that person,\\n            (a)      carries on a noxious, an offensive, or a noisy business at a place, or causes or permits a'),\n",
       " Document(metadata={'total_pages': 115, 'file_name': 'criminal offences act.pdf', 'doc_type': 'act', 'chapter_title': 'CHAPTER TWO'}, page_content='it by a voluntary act, done without the skill and care that are reasonably necessary under the\\ncircumstances.\\nIllustrations\\n            1.        A, a woman who does not have knowledge of mi dwifery, acts as a midwife, and through her\\nwant of skill she causes death. Here, if A knew that a properly qualified midwife or surgeon\\ncould be procured, the fact of A so acting without possessing proper sk ill and without a\\nnecessity for so acting, is evidence of neglig ence, although it appears that she did her best.\\nBut if the emergency was sudden, and a prope rly qualified midwife or surgeon could not be\\nprocured, A has not acted negligently, provided she d id the best she could under the\\ncircumstances.\\n              2.          A chemist sells poison so made up as to be liable to be mistaken for a harmless medicine.\\nThis is evidence of negligence.\\n              3.        If the law directs poisons to be sold only in bottles of a particular kind, and the chemist sells'),\n",
       " Document(metadata={'doc_type': 'act', 'file_name': 'criminal offences act.pdf', 'chapter_title': 'Chapter One', 'total_pages': 115}, page_content='and furnishes the means for that purpose, the wife, servant, or other person so charged is under a duty to\\nsupply them accordingly.\\n(8)  For the purposes of this section, “necessaries of health and life”  includes proper food, clothing,\\nshelter, warmth, medical or surgical treatment, and any other matter which is reasonably necessary for the\\npreservation of the health and life of a person.\\nIllustration\\nSubsection (6)  The father or mother of a child who does not have the means of providing the child\\nwith food or medical attendance, is bound to seek assist ance from an officer appointed to relieve the poor,\\nbut is not bound to beg from private charity.\\n80.   Explanation as to office\\n(1)  Where, under section 78  or 79, a duty is constituted by an office, employment, agreement, or\\nundertaking, the duty is sufficiently constituted in the case of a person\\n            (a)      who is actually discharging the duties belonging to that office or employment, or'),\n",
       " Document(metadata={'chapter_title': 'Chapter with', 'doc_type': 'act', 'total_pages': 115, 'file_name': 'criminal offences act.pdf'}, page_content='to depart from that land,\\ncommits a criminal offence and is liable, on the compla int of the owner or occupier of the land, to a fine\\nnot exceeding twenty-five penalty units; and the Cour t may order the removal from the land, by force if\\nnecessary, of a person, an animal, a structure or a thing.43(43)'),\n",
       " Document(metadata={'doc_type': 'act', 'chapter_title': 'CHAPTER FIVE', 'file_name': 'criminal offences act.pdf', 'total_pages': 115}, page_content='or with intent to steal anything on or about the body of, or with intent to cause harm to, that other person.\\n(2)  For the purposes of subsection (1) , it is not necessary to prove that the person stolen had been\\ntaken from the possession, care, or charge of a person, if it is shown that some person, other than the\\naccused person, was entitled to the control or possession of the person stolen.\\n95.   Special provisions as to child stealing and abduction\\n(1)  For the purposes of the sections of this')]"
      ]
     },
     "execution_count": 9,
     "metadata": {},
     "output_type": "execute_result"
    }
   ],
   "source": [
    "retriever.get_relevant_documents(\"my mother did not give me food\")"
   ]
  },
  {
   "cell_type": "code",
   "execution_count": 10,
   "id": "ef4ee092",
   "metadata": {},
   "outputs": [],
   "source": [
    "load_dotenv(override=True)\n",
    "GROQ_API_KEY = os.getenv(\"GROQ_API_KEY\")\n",
    "TOGETHER_API_KEY = os.getenv(\"TOGETHER_API_KEY\")\n",
    "\n",
    "model_1 = \"gemma2-9b-it\"\n",
    "client1 = openai.OpenAI(\n",
    "    base_url=\"https://api.groq.com/openai/v1\",\n",
    "    api_key=os.environ.get(\"GROQ_API_KEY\"),\n",
    ")\n",
    "\n",
    "model_2 = \"meta-llama/Llama-3.3-70B-Instruct-Turbo-Free\"\n",
    "client2 = openai.OpenAI(\n",
    "  api_key=os.environ.get(\"TOGETHER_API_KEY\"),\n",
    "  base_url=\"https://api.together.xyz/v1\",\n",
    ")"
   ]
  },
  {
   "cell_type": "markdown",
   "id": "1cfff947",
   "metadata": {},
   "source": [
    "Model tests"
   ]
  },
  {
   "cell_type": "code",
   "execution_count": 13,
   "id": "e1d39f7e",
   "metadata": {},
   "outputs": [],
   "source": [
    "\n",
    "def rephrase_query(user_query):\n",
    "    pdf_path = \"../docs\"\n",
    "    prompt_path = \"../prompts/rephaser_llm_template.txt\"\n",
    "    \n",
    "    with open(prompt_path, \"r\", encoding=\"utf-8\") as f:\n",
    "        system_prompt = f.read().strip()\n",
    "        system_prompt += \"Your knowledge is limited strictly to the content of the following files:\"\n",
    "        for filename in os.listdir(pdf_path):\n",
    "            system_prompt += filename + \"\\n\"\n",
    "\n",
    "\n",
    "    message = [{'role': \"system\", \"content\": system_prompt}, {'role': \"system\", \"content\": user_query}]\n",
    "    rephrased_query = client1.chat.completions.create(model=model_1, messages=message)\n",
    "    rephrased_query = rephrased_query.choices[0].message.content\n",
    "\n",
    "    return rephrased_query"
   ]
  },
  {
   "cell_type": "code",
   "execution_count": 16,
   "id": "56a5b414",
   "metadata": {},
   "outputs": [
    {
     "data": {
      "text/plain": [
       "\"['Seek legal dissolution of marriage', 'Requirements for divorce in Ghana', 'How to legally end a marriage in Ghana'] \\n\""
      ]
     },
     "execution_count": 16,
     "metadata": {},
     "output_type": "execute_result"
    }
   ],
   "source": [
    "rephrase_query(\"I want to divorce my wife\")"
   ]
  },
  {
   "cell_type": "code",
   "execution_count": null,
   "id": "396af4e0",
   "metadata": {},
   "outputs": [],
   "source": [
    "\n",
    "def rephrase_query(user_query):\n",
    "    pdf_path = \"../docs\"\n",
    "    prompt_path = \"../prompts/rephaser_llm_template.txt\"\n",
    "    \n",
    "    with open(prompt_path, \"r\", encoding=\"utf-8\") as f:\n",
    "        system_prompt = f.read().strip()\n",
    "        system_prompt += \"Your knowledge is limited strictly to the content of the following files:\"\n",
    "        for filename in os.listdir(pdf_path):\n",
    "            system_prompt += filename + \"\\n\"\n",
    "\n",
    "\n",
    "    message = [{'role': \"system\", \"content\": system_prompt}, {'role': \"system\", \"content\": user_query}]\n",
    "    rephrased_query = client2.chat.completions.create(model=model_2, messages=message)\n",
    "    rephrased_query = rephrased_query.choices[0].message.content\n",
    "\n",
    "    return rephrased_query"
   ]
  },
  {
   "cell_type": "markdown",
   "id": "77eb7e08",
   "metadata": {},
   "source": [
    "PIPELINE"
   ]
  },
  {
   "cell_type": "code",
   "execution_count": 17,
   "id": "7b6f5ac0",
   "metadata": {},
   "outputs": [],
   "source": [
    "\"\"\"\n",
    "LLM 1 will rephrase every question into 3 different similar questions\n",
    "\n",
    "\"\"\"\n",
    "\n",
    "def rephrase_query(user_query):\n",
    "    pdf_path = \"../docs\"\n",
    "    prompt_path = \"../prompts/rephaser_llm_template.txt\"\n",
    "    \n",
    "    with open(prompt_path, \"r\", encoding=\"utf-8\") as f:\n",
    "        system_prompt = f.read().strip()\n",
    "        system_prompt += \"Your knowledge is limited strictly to the content of the following files:\"\n",
    "        for filename in os.listdir(pdf_path):\n",
    "            system_prompt += filename + \"\\n\"\n",
    "\n",
    "\n",
    "    message = [{'role': \"system\", \"content\": system_prompt}, {'role': \"system\", \"content\": user_query}]\n",
    "    rephrased_query = client1.chat.completions.create(model=model_1, messages=message)\n",
    "    rephrased_query = rephrased_query.choices[0].message.content\n",
    "\n",
    "    return rephrased_query"
   ]
  },
  {
   "cell_type": "code",
   "execution_count": 21,
   "id": "3f49f04f",
   "metadata": {},
   "outputs": [
    {
     "name": "stdout",
     "output_type": "stream",
     "text": [
      "['What are the legal consequences if a person unintentionally collides with another individual while driving?', 'Can I be charged with an offense if I accidentally struck someone with my vehicle?', 'What are the applicable laws in Ghana regarding vehicular accidents resulting in unintentional harm?'] \n",
      "\n"
     ]
    }
   ],
   "source": [
    "rephrased_query = rephrase_query(\"i mistakenly hit someone with my car\")\n",
    "print(rephrased_query)\n",
    "\n",
    "context = \"\" \n",
    "relevant_docs = retriever.get_relevant_documents(rephrased_query)\n",
    "\n",
    "for doc in relevant_docs:\n",
    "    context += f\"[Source: {doc.metadata['file_name']}, Chapter: {doc.metadata.get('chapter_title', 'N/A')}]\\n{doc.page_content}\\n\\n\""
   ]
  },
  {
   "cell_type": "code",
   "execution_count": 22,
   "id": "b94440cb",
   "metadata": {},
   "outputs": [],
   "source": [
    "def chat_osagyefo(user_query, history):\n",
    "    \n",
    "    prompt_path = \"../prompts/main_prompt_template.txt\"\n",
    "\n",
    "    rephrased_query = rephrase_query(user_query)\n",
    "    relevant_docs = retriever.get_relevant_documents(rephrased_query)\n",
    "\n",
    "    print(\"RELEVANT DOCS: \", relevant_docs)\n",
    "    context = ''\n",
    "    for doc in relevant_docs:\n",
    "        context += f\"[Source: {doc.metadata['file_name']}, Chapter: {doc.metadata.get('chapter_title', 'N/A')}]\\n{doc.page_content}\\n\\n\"\n",
    "\n",
    "    # loading the prompt\n",
    "    with open(prompt_path, \"r\", encoding=\"utf-8\") as f:\n",
    "        osagyefo_system_prompt = f.read().strip()\n",
    "    osagyefo_system_prompt += f\"Use the following context to answer:\\n{context}\"\n",
    "\n",
    "\n",
    "\n",
    "    history = [\n",
    "        {'role': h['role'], 'content': h['content'] }\n",
    "        for h in history\n",
    "        if 'role' in h and 'content' in h\n",
    "    ]\n",
    "\n",
    "    msg_to_model = [{\"role\": \"system\", \"content\": osagyefo_system_prompt}] + history + [{\"role\": \"user\", \"content\": user_query}]\n",
    "\n",
    "    model = client2.chat.completions.create(\n",
    "        model=model_2,\n",
    "        messages=msg_to_model,\n",
    "    )\n",
    "\n",
    "    osagyefo_response = model.choices[0].message.content\n",
    "    \n",
    "    return osagyefo_response"
   ]
  },
  {
   "cell_type": "code",
   "execution_count": 23,
   "id": "9e508445",
   "metadata": {},
   "outputs": [
    {
     "name": "stderr",
     "output_type": "stream",
     "text": [
      "c:\\Users\\DeLL\\Desktop\\anything_py\\osagyefo_ai\\.venv\\lib\\site-packages\\gradio\\chat_interface.py:339: UserWarning: The 'tuples' format for chatbot messages is deprecated and will be removed in a future version of Gradio. Please set type='messages' instead, which uses openai-style 'role' and 'content' keys.\n",
      "  self.chatbot = Chatbot(\n"
     ]
    }
   ],
   "source": [
    "demo_chatbot = gr.ChatInterface(chat_osagyefo,\n",
    "                                title=\"OSAGYEFO ESQ.\",\n",
    "                                description=\"Welcome! Put forth your legal challenges. \")"
   ]
  },
  {
   "cell_type": "code",
   "execution_count": 24,
   "id": "ee9c199c",
   "metadata": {},
   "outputs": [
    {
     "name": "stdout",
     "output_type": "stream",
     "text": [
      "* Running on local URL:  http://127.0.0.1:7860\n",
      "* To create a public link, set `share=True` in `launch()`.\n"
     ]
    },
    {
     "data": {
      "text/html": [
       "<div><iframe src=\"http://127.0.0.1:7860/\" width=\"100%\" height=\"500\" allow=\"autoplay; camera; microphone; clipboard-read; clipboard-write;\" frameborder=\"0\" allowfullscreen></iframe></div>"
      ],
      "text/plain": [
       "<IPython.core.display.HTML object>"
      ]
     },
     "metadata": {},
     "output_type": "display_data"
    },
    {
     "data": {
      "text/plain": []
     },
     "execution_count": 24,
     "metadata": {},
     "output_type": "execute_result"
    },
    {
     "name": "stdout",
     "output_type": "stream",
     "text": [
      "RELEVANT DOCS:  [Document(metadata={'chapter_title': 'Chapter IV', 'total_pages': 161, 'file_name': 'ghana_constitution.pdf', 'doc_type': 'constitution'}, page_content='Chapter IV\\n-The Laws of Ghana'), Document(metadata={'chapter_title': 'Chapter but', 'total_pages': 161, 'file_name': 'ghana_constitution.pdf', 'doc_type': 'constitution'}, page_content='tribunals for the trial of offences against military law committed by persons subject to military \\nlaw. \\n(20) Where a person subject to military law, who is not in active service, commits an offence \\nwhich is within the jurisdiction of a civil court, he shall not be tried by a court-martial or \\nmilitary tribunal for the offence unless the offence is within the jurisdiction of a court-martial \\nor other military tribunal under any law for the enforcement of military discipline. \\n(21) For the purposes of this article, “criminal offence” means a criminal offence under the \\nlaws of Ghana. \\n20. PROTECTION FROM DEPRIVATION OF PROPERTY. \\n(1) No property of any description, or interest in or right over any property shall be \\ncompulsorily taken possession of or acquired by the State unless the following conditions are \\nsatisfied— \\n(a) the taking of possession or acquisition is necessary in the interest of defence, public safety,'), Document(metadata={'file_name': 'ghana_constitution.pdf', 'total_pages': 161, 'doc_type': 'constitution', 'chapter_title': 'CHAPTER EIGHT'}, page_content='effective utilisation of available resources; and \\n(e) monitor, evaluate and co-ordinate development policies, programmes and projects. \\n(3) The Commission shall also perform such other functions relating to development planning \\nas the President may direct. \\nThe Attorney-General  \\n88. THE ATTORNEY-GENERAL. \\n(1) There shall be an Attorney-General of Ghana who shall be a Minister of State and the \\nprincipal legal adviser to the Government. \\n(2) The Attorney-General shall discharge such other duties of a legal nature as may be \\nreferred or assigned to him by the President, or imposed on him by this Constitution or any \\nother law. \\n(3) The Attorney-General shall be responsible for the initiation and conduct of all \\nprosecutions of criminal offences. \\n(4) All offences prosecuted in the name of the Republic of Ghana shall be at the suit of the \\nAttorney-General or any other person authorised by him in accordance with any law.'), Document(metadata={'doc_type': 'act', 'chapter_title': 'CHAPTER ONE', 'total_pages': 115, 'file_name': 'criminal offences act.pdf'}, page_content='any other means, a false statement or report which is  likely to injure the credit or reputation of Ghana or\\nthe Government and which that person knows or has r eason to believe is false, commits a second degree\\nfelony.\\n(2)  Subsection (1) does not apply to a statement which is absolutely privileged under section 117.\\n(3)  It is not a defence to a charge under this sec tion that the person charge d did not know or did not\\nhave reason to believe that the statement or repor t was false unless it is proved that, before the\\ncommunication of statement or report; reasonable meas ures were taken to verify  the accuracy of the\\nstatement or report.\\n(4)  A citizen may be tried and punished for an offence under this section whether committed in or\\noutside Ghana.54(54)\\n186.   Aiding or permitting escape of prisoner of war\\n(1)  A person who intentionally and unlawfully ai ds or permits the escape of a prisoner of war\\ncommits a second degree felony.'), Document(metadata={'doc_type': 'constitution', 'chapter_title': 'CHAPTER EIGHT', 'file_name': 'ghana_constitution.pdf', 'total_pages': 161}, page_content='(a) considering and taking appropriate measures to safeguard the internal and external security \\nof Ghana; \\n(b) ensuring the collection of information relating to the security of Ghana and the integration \\nof the domestic, foreign and security policies relating to it so as to enable the security services \\nand other departments and agencies of the Government to co-operate more effectively in \\nmatters relating to national security; \\n(c) assessing and appraising the objectives, commitments and risks of Ghana in relation to the \\nactual and potential military power in the interest of national security; and \\n(d) taking appropriate measures regarding the consideration of policies on matters of common \\ninterest to the departments and agencies of the Government concerned with national security. \\n85. ESTABLISHMENT OF SECURITY SERVICES. \\nNo agency, establishment or other organization concerned with national security shall be \\nestablished except as provided for under this Constitution.')]\n",
      "RELEVANT DOCS:  [Document(metadata={'chapter_title': 'Chapter Two', 'total_pages': 164, 'doc_type': 'act', 'file_name': 'land-act-2020-act-1036.pdf'}, page_content='of fifty years. \\n(4) The leasehold interest under subsect ion (3) shall be at a peppercorn rent and commence \\nfrom the 22nd day of August, 1969. \\n(5) The freehold reversionary interest in any land converted into leasehold under subsection \\n(3) shall vest m the President on behalf of, and in trust for, the people of Ghana. \\n(6) A person shall not create interest in, or right over, land in Ghana which vests in any person \\nwho is not a citizen of Ghana a leasehold for a term that exceeds fifty years at any one time. \\n(7) A leasehold interest of more than fifty years held o n the 22nd day of August, 1969 by a \\nperson who is not a citizen of Ghana is deemed to be an interest or right subsisting for a period \\nof fifty years commencing from the twenty-second day of August, 1969. \\n(8) The reversionary interest in leasehold under subsection (7) shall vest in the lessor. \\n(9) The restrictions imposed in subsections (1), (2), (3) and (7) on the interest that a person'), Document(metadata={'doc_type': 'constitution', 'total_pages': 161, 'file_name': 'ghana_constitution.pdf', 'chapter_title': 'Chapter but'}, page_content='(4) Nothing in this article shall prevent Parliament from enacting laws that are reasonably \\nnecessary to provide— \\n(a) for the implementation of policies and programmes aimed at redressing social, economic \\nor educational imbalance in the Ghanaian society; \\n(b) for matters relating to adoption, marriage, divorce, burial, devolution of property on death \\nor other matters of personal law; \\n(c) for the imposition of restrictions on the acquisition of land by persons who are not citizens \\nof Ghana or on the political and economic activities of such persons and for other matters \\nrelating to such persons; or \\n(d) for making different provision for different communities having regard to their special \\ncircumstances not being provision which is inconsistent with the spirit of this Constitution. \\n(5) Nothing shall be taken to be inconsistent with this article which is allowed to be done \\nunder any provision of this Chapter. \\n18. PROTECTION OF PRIVACY OF HOME AND OTHER PROPERT Y.'), Document(metadata={'total_pages': 115, 'file_name': 'criminal offences act.pdf', 'doc_type': 'act', 'chapter_title': 'Chapter comprising'}, page_content='87 (Popup - Footnote)\\n87.        Amended by the Schedule to the Criminal Code (Amendment) Act, 1998 (Act 554).\\n88 (Popup - Footnote)\\n88.        By section 97 of the Posts and Telecommunications Corporation Decree, 1975 (N.R.C.D. 311).\\n89 (Popup - Footnote)\\n89.        Amended by section 19 of the Criminal Code (Amendment) Decree, 1969 (N.L.C.D. 298).\\n90 (Popup - Footnote)\\n90.        Amended by section 51 of the [Ghana] Highway Authority Decree, 1974 (N.L.C.D. 298).\\n91 (Popup - Footnote)\\n91.        Amended by section 51 of the [Ghana] Highway Authority Decree, 1974 (N.L.C.D. 298).\\n92 (Popup - Footnote)\\n92.        Amended by section 16 of the Criminal Code (Amendment) Act, 1998 (Act 554).\\n93 (Popup - Footnote)\\n93.        Amended by the Schedule to the Criminal Code (Amendment) Act, 1998 (Act 554).\\n94 (Popup - Footnote)\\n94.        Amended by the Schedule to the Criminal Code (Amendment) Act, 1998 (Act 554).\\n95 (Popup - Footnote)'), Document(metadata={'file_name': 'ghana_constitution.pdf', 'total_pages': 161, 'chapter_title': 'CHAPTER EIGHT', 'doc_type': 'constitution'}, page_content='effective utilisation of available resources; and \\n(e) monitor, evaluate and co-ordinate development policies, programmes and projects. \\n(3) The Commission shall also perform such other functions relating to development planning \\nas the President may direct. \\nThe Attorney-General  \\n88. THE ATTORNEY-GENERAL. \\n(1) There shall be an Attorney-General of Ghana who shall be a Minister of State and the \\nprincipal legal adviser to the Government. \\n(2) The Attorney-General shall discharge such other duties of a legal nature as may be \\nreferred or assigned to him by the President, or imposed on him by this Constitution or any \\nother law. \\n(3) The Attorney-General shall be responsible for the initiation and conduct of all \\nprosecutions of criminal offences. \\n(4) All offences prosecuted in the name of the Republic of Ghana shall be at the suit of the \\nAttorney-General or any other person authorised by him in accordance with any law.'), Document(metadata={'file_name': 'ghana_constitution.pdf', 'total_pages': 161, 'doc_type': 'constitution', 'chapter_title': 'CHAPTER TWENTY'}, page_content='government to approve the grant of rights, concessions or contracts in respect of the \\nexploitation of any mineral, water or other natural resource of Ghana.')]\n",
      "RELEVANT DOCS:  [Document(metadata={'doc_type': 'constitution', 'total_pages': 161, 'chapter_title': 'CHAPTER TWENTY', 'file_name': 'ghana_constitution.pdf'}, page_content='article 157 of this Constitution shall, by constitutional instrument, make rules regulating the \\npractice and procedure of all commissions of inquiry and for appeals from commissions of \\ninquiry. \\n282. ASSISTANCE BY LAWYER OR OTHER EXPERT. \\n(1) Any person whose conduct is the subject of inquiry by a commission of inquiry, or who \\nmay, in any way be implicated or concerned in the matter under inquiry, is entitled to be \\nrepresented by a lawyer at the inquiry; and any other person who may consider it desirable \\nthat he should be represented by a lawyer shall be allowed to be so represented. \\n(2) A person referred to in clause (1) of this article may also be assisted by such other expert \\nas may be reasonably necessary for the purpose of protecting his interests at the inquiry. \\n283. IMMUNITIES AND PRIVILEGES OF WITNESSES. \\nA witness before a commission of inquiry is entitled to the same immunities and privileges as \\nif he were a witness before the High Court.'), Document(metadata={'doc_type': 'constitution', 'chapter_title': 'CHAPTER ELEVEN', 'total_pages': 161, 'file_name': 'ghana_constitution.pdf'}, page_content='standing as a lawyer. \\n129. GENERAL JURISDICTION OF SUPREME COURT. \\n(1) The Supreme Court shall be the final court of appeal and shall have such appellate and \\nother jurisdiction as may be conferred on it by this Constitution or by any other law. \\n(2) The Supreme Court shall not be bound to follow the decisions of any other court. \\n(3) The Supreme Court may, while treating its own previous decisions as normally binding, \\ndepart from a previous decision when it appears to it right to do so; and all other courts shall \\nbe bound to follow the decisions of the Supreme Court on questions of law. \\n(4) For the purposes of hearing and determining a matter within its jurisdiction and the \\namendment, execution or the enforcement of a judgment or order made on any matter, and for \\nthe purposes of any other authority, expressly or by necessary implication given to the \\nSupreme Court by this Constitution or any other law, the Supreme Court shall have all the'), Document(metadata={'doc_type': 'constitution', 'total_pages': 161, 'chapter_title': 'CHAPTER FIFTEEN', 'file_name': 'ghana_constitution.pdf'}, page_content='advice of the Police Council. \\n(4) The President may, subject to such conditions as he thinks fit, delegate some of his \\nfunctions under this article by directions in writing to the Police Council or to a committee or \\nto a member of the Council. \\n203. FUNCTIONS OF THE POLICE COUNCIL. \\n(1) The Police Council shall advise the President on matters of policy relating to internal \\nsecurity, including the role of the Police Service, budgeting and finance, administration and \\nthe promotion of officers above the rank of Assistant Commissioner of Police. \\n(2) The Police Council may, with the prior approval of the President, by constitutional \\ninstrument, make regulations for the performance of its functions under this Constitution or \\nany other law and for the effective and efficient administration of the Police Service. \\n(3) Regulations made under clause (2) of this article shall include regulations in respect of— \\n(a) the control and administration of the Police Service;'), Document(metadata={'file_name': 'ghana_constitution.pdf', 'doc_type': 'constitution', 'total_pages': 161, 'chapter_title': 'CHAPTER ELEVEN'}, page_content='(d) a Justice of the Court of Appeal nominated by the Justices of the Court of Appeal; \\n(e) a Justice of the High Court nominated by the Justices of the High Court; \\n(f) two representatives of the Ghana Bar Association one of whom shall be a person of not \\nless than twelve years’ standing as a lawyer; \\n(g) a representative of the Chairmen of Regional Tribunals nominated by the Chairmen; \\n(h) a representative of the lower courts or tribunals; \\n(i) the Judge Advocate-General of the Ghana Armed Forces; \\n(j) the Head of the Legal Directorate of the Police Service; \\n(k) the Editor of the Ghana Law Reports; \\n(l) a representative of the Judicial Service Staff Association nominated by the Association; \\n(m) a chief nominated by the National House of Chiefs; and \\n(n) four other persons who are not lawyers appointed by the President. \\n154. FUNCTIONS OF JUDICIAL COUNCIL. \\n(1) The functions of the Judicial Council are—'), Document(metadata={'doc_type': 'constitution', 'chapter_title': 'Chapter but', 'total_pages': 161, 'file_name': 'ghana_constitution.pdf'}, page_content='(e) freedom of association, which shall include freedom to form or join trade unions or other \\nassociations, national and international, for the protection of their interest; \\n(f) information, subject to such qualifications and laws as are necessary in a democratic \\nsociety; \\n(g) freedom of movement which means the right to move freely in Ghana, the right to leave \\nand to enter Ghana and immunity from expulsion from Ghana. \\n(2) A restriction on a person’s freedom of movement by his lawful detention shall not be held \\nto be inconsistent with or in contravention of this article. \\n(3) All citizens shall have the right and freedom to form or join political parties and to \\nparticipate in political activities subject to such qualifications and laws as are necessary in a \\nfree and democratic society and are consistent with this Constitution. \\n(4) Nothing in, or done under the authority of, a law shall be held to be inconsistent with, or in')]\n",
      "RELEVANT DOCS:  [Document(metadata={'total_pages': 161, 'chapter_title': 'CHAPTER TWENTY', 'file_name': 'ghana_constitution.pdf', 'doc_type': 'constitution'}, page_content='article 157 of this Constitution shall, by constitutional instrument, make rules regulating the \\npractice and procedure of all commissions of inquiry and for appeals from commissions of \\ninquiry. \\n282. ASSISTANCE BY LAWYER OR OTHER EXPERT. \\n(1) Any person whose conduct is the subject of inquiry by a commission of inquiry, or who \\nmay, in any way be implicated or concerned in the matter under inquiry, is entitled to be \\nrepresented by a lawyer at the inquiry; and any other person who may consider it desirable \\nthat he should be represented by a lawyer shall be allowed to be so represented. \\n(2) A person referred to in clause (1) of this article may also be assisted by such other expert \\nas may be reasonably necessary for the purpose of protecting his interests at the inquiry. \\n283. IMMUNITIES AND PRIVILEGES OF WITNESSES. \\nA witness before a commission of inquiry is entitled to the same immunities and privileges as \\nif he were a witness before the High Court.'), Document(metadata={'total_pages': 161, 'file_name': 'ghana_constitution.pdf', 'doc_type': 'constitution', 'chapter_title': 'Chapter by'}, page_content='Chapter by\\ndirections in writing to a committee or a member \\nof the Council.'), Document(metadata={'total_pages': 164, 'doc_type': 'act', 'file_name': 'land-act-2020-act-1036.pdf', 'chapter_title': 'Chapter Two'}, page_content='Dated the .............................. day of ............................ (month) .................................. (year). \\nSigned \\n.......................................................................... \\n(Director, Land Registration Division) \\nFORM 2 \\n(section 103 (1)) \\nAPPLICATION FOR FIRST REGISTRATION \\n1. Application for First Registration of Land other than Leasehold \\nDistrict (Registration) ....................................... \\nStreet/House No .............................................. \\nLocality ........................................................... \\nTown............................................................... \\nDistrict (Administrative).................................... \\nRegion............................................................. \\nBlock.............................................................. \\nSection............................................................ \\n137 \\n \\nSize of land......................................................'), Document(metadata={'doc_type': 'act', 'total_pages': 164, 'file_name': 'land-act-2020-act-1036.pdf', 'chapter_title': 'Chapter Six'}, page_content='(4) Where the plan is prepared by \\n(a)   an official surveyor, the plan shall be approved by the Director of the Survey and Mapping \\nDivision; and \\n(b)   a licensed surveyor, the plan shall be certified by the licensed surveyor and approved by \\nthe Director of the Survey and Mapping Division. \\nSection 209—Proof of instrument \\n(1) An instrument presented for registration shall be proved to have been duly executed by the \\ngrantor, by the oath of one of the subscribing witnesses of the grantor. \\n(2) The oath shall be on the instrument and state whether the grantor could read and write, and \\nif the grantor could not read and write, state that the instrument was read over and in terpreted \\nto the grantor in the language that the grantor understood at the time of the execution of the \\ninstrument and that the grantor appeared to have understood the contents of that instrument. \\n(3) The form of the oath shall be as specified in Form 1 of the Fourth Schedule.'), Document(metadata={'doc_type': 'constitution', 'chapter_title': 'CHAPTER FOURTEEN', 'total_pages': 161, 'file_name': 'ghana_constitution.pdf'}, page_content='functions under this article by directions in writing to the governing council concerned or to a \\ncommittee of the council or to any member of that governing council or to any public officer. \\n(3) The power to appoint persons to hold or act in an office in a body of higher education, \\nresearch or professional training, shall vest in the council or other governing body of that \\ninstitution or body. \\n196. OTHER FUNCTIONS OF THE PUBLIC SERVICES COMMISS ION. \\nThe Public Services Commission shall have such powers and exercise such supervisory, \\nregulatory and consultative functions as Parliament shall, by law, prescribe, including as may \\nbe applicable, the supervision and regulation of, entrance and promotion examinations, \\nrecruitment and appointment into or promotions within, the public services, and the \\nestablishment of standards and guidelines on the terms and conditions of employment in the \\npublic services.  \\n197. REGULATIONS.')]\n",
      "RELEVANT DOCS:  [Document(metadata={'total_pages': 115, 'doc_type': 'act', 'file_name': 'criminal offences act.pdf', 'chapter_title': 'CHAPTER FIVE'}, page_content='CHAPTER FIVE\\nOffences relating to Public Officers and to Public Elections\\n236. Refusal to serve in public office.\\n237. Falsely pretending to be public officer or juror.\\n238. Proof of falsity of pretence.\\n239. Corruption of and by public officer or juror.\\n240. Explanation as to corruption by public officers.\\n241. Explanation as to corruption of public officer.\\n242. Special explanation as to corruption of and by public officer.\\n243. Corrupt agreement for lawful consideration.\\n244. Acceptance of bribe by public officer, after doing act.\\n245. Promise of bribe to public officer, after act done.\\n246. Explanation as to oppression.\\n247. Explanation as to extortion.\\n248. False declaration for office or voting.\\n249. False certificate by public officer.\\n250. Destruction of document by public officer.\\nyp\\n251. Deceiving a public officer.\\n252. Accepting or giving bribe to influence public officer or juror.\\n253. Corrupt promise by judicial officer or juror.\\n254. Corrupt selection of juror.'), Document(metadata={'total_pages': 161, 'doc_type': 'constitution', 'chapter_title': 'Chapter XXIV', 'file_name': 'ghana_constitution.pdf'}, page_content='Chapter XXIV\\n-Code of Conduct for Public Officers'), Document(metadata={'total_pages': 161, 'file_name': 'ghana_constitution.pdf', 'doc_type': 'constitution', 'chapter_title': 'CHAPTER EIGHTEEN'}, page_content='specified in paragraphs (a), (b) and (c) of this clause through such means as are fair, proper \\nand effective, including— \\n(i) negotiation and compromise between the parties concerned; \\n(ii) causing the complaint and its finding on it to be reported to the superior of an offending \\nperson; \\n(iii) bringing proceedings in a competent Court for a remedy to secure the termination of the \\noffending action or conduct, or the abandonment or alteration of the offending procedures; \\nand \\n(iv) bringing proceedings to restrain the enforcement of such legislation or regulation by \\nchallenging its validity if the offending action or conduct is sought to be justified by \\nsubordinate legislation or regulation which is unreasonable or otherwise ultra vires ; \\n(e) to investigate all instances of alleged or suspected corruption and the misappropriation of \\npublic moneys by officials and to take appropriate steps, including reports to the Attorney-'), Document(metadata={'total_pages': 161, 'doc_type': 'constitution', 'file_name': 'ghana_constitution.pdf', 'chapter_title': 'CHAPTER FIFTEEN'}, page_content='CHAPTER FIFTEEN\\nTHE POLICE SERVICE \\n200. THE POLICE SERVICE. \\n(1) There shall be a Police Service of Ghana. \\n(2) No person or authority shall raise any police service except by or under the authority of an \\nAct of Parliament. \\n(3) The Police Service shall be equipped and maintained to perform its traditional role of \\nmaintaining law and order. \\n201. THE POLICE COUNCIL. \\nThere shall be established a Police Council which shall consist of—  \\n   9[(a) a chairman who shall be appointed by the President acting in consultation with the \\nCouncil of State;] \\n(b) the Minister responsible for internal affairs; \\n(c) the Inspector-General of Police; \\n(d) the Attorney-General or his representative; \\n(e) a lawyer nominated by the Ghana Bar Association; \\n(f) a representative of the Retired Senior Police Officers Association; \\n(g) two members of the Police Service, appointed by the President, acting in consultation with \\nthe Council of State, one of whom shall be of a junior rank; and'), Document(metadata={'chapter_title': 'Chapter XV', 'file_name': 'ghana_constitution.pdf', 'doc_type': 'constitution', 'total_pages': 161}, page_content='Chapter XV\\n-The Police Service')]\n",
      "RELEVANT DOCS:  [Document(metadata={'total_pages': 164, 'file_name': 'land-act-2020-act-1036.pdf', 'chapter_title': 'Chapter Two', 'doc_type': 'act'}, page_content='of fifty years. \\n(4) The leasehold interest under subsect ion (3) shall be at a peppercorn rent and commence \\nfrom the 22nd day of August, 1969. \\n(5) The freehold reversionary interest in any land converted into leasehold under subsection \\n(3) shall vest m the President on behalf of, and in trust for, the people of Ghana. \\n(6) A person shall not create interest in, or right over, land in Ghana which vests in any person \\nwho is not a citizen of Ghana a leasehold for a term that exceeds fifty years at any one time. \\n(7) A leasehold interest of more than fifty years held o n the 22nd day of August, 1969 by a \\nperson who is not a citizen of Ghana is deemed to be an interest or right subsisting for a period \\nof fifty years commencing from the twenty-second day of August, 1969. \\n(8) The reversionary interest in leasehold under subsection (7) shall vest in the lessor. \\n(9) The restrictions imposed in subsections (1), (2), (3) and (7) on the interest that a person'), Document(metadata={'total_pages': 164, 'chapter_title': 'Chapter Three', 'file_name': 'land-act-2020-act-1036.pdf', 'doc_type': 'act'}, page_content='when the lease expires. \\n(10) A lessee under subsection (9) shall discharge the established customary duties to the lessor. \\n(11) Unless otherwise expressly provided in the lease, where bare land is leased to a citizen of \\nGhana who is not an indigene of the area where the land is situated, there shall be an implied \\nterm in the lease that the lessee is entitled to a renewal of the lease.  \\n(12) A lease of bare public land gran ted by the Republic to a citizen of Ghana is subject to \\nautomatic renewal on terms agreed upon by the parties. \\n(13) Subsection (12) does not apply where \\n(a)   the lease is in respect of a commercial property; or \\n(b)   the leased property is required for re-development. \\n(14) The renewal in subsections (7), (9), (11) and (12) are subject to the original terms of the \\nlease and any new terms agreed upon by the parties to the lease or their successors, agents or \\nassignees, taking into consideration any improvement of the land by the lessee.'), Document(metadata={'file_name': 'criminal offences act.pdf', 'doc_type': 'act', 'total_pages': 115, 'chapter_title': 'Chapter comprising'}, page_content='87 (Popup - Footnote)\\n87.        Amended by the Schedule to the Criminal Code (Amendment) Act, 1998 (Act 554).\\n88 (Popup - Footnote)\\n88.        By section 97 of the Posts and Telecommunications Corporation Decree, 1975 (N.R.C.D. 311).\\n89 (Popup - Footnote)\\n89.        Amended by section 19 of the Criminal Code (Amendment) Decree, 1969 (N.L.C.D. 298).\\n90 (Popup - Footnote)\\n90.        Amended by section 51 of the [Ghana] Highway Authority Decree, 1974 (N.L.C.D. 298).\\n91 (Popup - Footnote)\\n91.        Amended by section 51 of the [Ghana] Highway Authority Decree, 1974 (N.L.C.D. 298).\\n92 (Popup - Footnote)\\n92.        Amended by section 16 of the Criminal Code (Amendment) Act, 1998 (Act 554).\\n93 (Popup - Footnote)\\n93.        Amended by the Schedule to the Criminal Code (Amendment) Act, 1998 (Act 554).\\n94 (Popup - Footnote)\\n94.        Amended by the Schedule to the Criminal Code (Amendment) Act, 1998 (Act 554).\\n95 (Popup - Footnote)'), Document(metadata={'chapter_title': 'Chapter but', 'doc_type': 'constitution', 'file_name': 'ghana_constitution.pdf', 'total_pages': 161}, page_content='(2) No person shall be required to perform forced labour. \\n(3) For the purposes of this article, “forced labour” does not include— \\n(a) any labour required as a result of a sentence or order of a court; or \\n(b) any labour required of a member of a disciplined force or service as his duties or, in the \\ncase of a person who has conscientious objections to a service as a member of the Armed \\nForces of Ghana, any labour which that person is required by law to perform in place of such \\nservice; or \\n(c) any labour required during any period when Ghana is at war or in the event of an \\nemergency or calamity that threatens the life and well-being of the community, to the extent \\nthat the requirement of such labour is reasonably justifiable in the circumstances of any \\nsituation arising or existing during that period for the purposes of dealing with the situation; \\nor \\n(d) any labour reasonably required as part of normal communal or other civic obligations.'), Document(metadata={'chapter_title': 'Chapter Three', 'file_name': 'land-act-2020-act-1036.pdf', 'total_pages': 164, 'doc_type': 'act'}, page_content='to the date of the actual completion of the purchase, on production of the receipt for the last \\npayment due for rent under the lease before the date of actual completion of the purchase. \\n(4) Where an interest in land, that is sold, derives from a sublease, the purchaser shall assume, \\nunless the contrary appears, \\n(a)    that the sublease and every superior lease were duly granted; \\n(b)   that the covenants and provisions of the sublease have been duly performed and observed \\nup to the date of actual completion of the purchase, on production of the receipt for the last \\n40 \\n \\npayment due for rent under the sublease b efore the date of actual completion of the purchase; \\nand  \\n(c)   that the rent due under every superior lease, and the covenants and provisions of every \\nsuperior lease, have been paid and duly performed and observed up to that date.  \\n(5) Recitals, statements, and descriptions of facts, matters and parties contained in a deed, an')]\n",
      "RELEVANT DOCS:  [Document(metadata={'doc_type': 'constitution', 'total_pages': 161, 'file_name': 'ghana_constitution.pdf', 'chapter_title': 'Chapter 25'}, page_content='Chapter 25\\nof this Constitution, Parliament shall have no power \\nto amend this section or sections 34 and 35 of this Schedule. \\nSECOND SCHEDULE \\nFORMS OF OATH \\nTHE OATH OF ALLEGIANCE  \\nI, ___________________ do (in the name of the Almighty God swear) (solemnly affirm) that \\nI will bear true faith and allegiance to the Republic of Ghana as by law established; that I will \\nuphold the sovereignty and integrity of Ghana; and that I will preserve, protect and defend the \\nConstitution of the Republic of Ghana. (So help me God). \\nTo be sworn before the President, the Chief Justice or such other person as the President may \\ndesignate . \\nTHE PRESIDENTIAL OATH  \\nI, ___________________ having been elected to the high office of President of the Republic \\nof Ghana do (in the name of the Almighty God swear) (solemnly affirm) that I will be faithful \\nand true to the Republic of Ghana; that I will at all times preserve, protect and defend the'), Document(metadata={'file_name': 'ghana_constitution.pdf', 'doc_type': 'constitution', 'total_pages': 161, 'chapter_title': 'CHAPTER EIGHT'}, page_content='in the name of the President shall be authenticated by the signature of a Minister and the \\nvalidity of any such instrument so authenticated shall not be called in question on the ground \\nthat it is not made, issued or executed by the President. \\n59. ABSENCE FROM GHANA. \\nThe President shall not leave Ghana without prior notification in writing, signed by him and \\naddressed to the Speaker of Parliament. \\n60. THE VICE-PRESIDENT AND SUCCESSION TO THE PRESID ENCY. \\n(1) There shall be a Vice-President of Ghana who shall perform such functions as may be \\nassigned to him by this Constitution or by the President.  \\n(2) A candidate for the office of Vice-President shall be designated by the candidate for the \\noffice of President before the election of the President.  \\n(3) The provisions of article 62 of this Constitution apply to a candidate for election as Vice-\\nPresident. \\n(4) A candidate shall be deemed to be duly elected as Vice-President if the candidate who'), Document(metadata={'chapter_title': 'Chapter shall', 'file_name': 'ghana_constitution.pdf', 'total_pages': 161, 'doc_type': 'constitution'}, page_content='Chapter shall\\nguide all citizens, \\nParliament, the President, the Judiciary, the Council of State, the Cabinet, political parties and \\nother bodies and persons in applying or interpreting this Constitution or any other law and in \\ntaking and implementing any policy decisions, for the establishment of a just and free society. \\n(2) The President shall report to Parliament at least once a year all the steps taken to ensure \\nthe realization of the policy objectives contained in this Chapter; and, in particular, the \\nrealization of basic human rights, a healthy economy, the right to work, the right to good \\nhealth care and the right to education. \\n35. POLITICAL OBJECTIVES. \\n(1) Ghana shall be a democratic state dedicated to the realization of freedom and justice; and \\naccordingly, sovereignty resides in the people of Ghana from whom Government derives all \\nits powers and authority through this Constitution.'), Document(metadata={'file_name': 'ghana_constitution.pdf', 'total_pages': 161, 'chapter_title': 'CHAPTER EIGHT', 'doc_type': 'constitution'}, page_content='CHAPTER EIGHT\\nTHE EXECUTIVE  \\nThe President  \\n57. The President of Ghana \\n58. Executive Authority of Ghana \\n59. Absence from Ghana \\n60. The Vice-President and Succession to the Presidency \\n61. Public and Presidential Seals \\n62. Qualifications of President \\n63. Election of President \\n64. Challenging Election of President \\n65. Presidential Election Regulations \\n66. Term of Office of President \\n67. Presidential Messages \\n68. Conditions of Office of President \\n69. Removal of President \\n70. Appointments by President \\n71. Determination of Certain Emoluments \\n72. Prerogative of Mercy \\nInternational Relations  \\n73. International Relations \\n74. Diplomatic Representation \\n75. Execution of Treaties \\nThe Cabinet  \\n76. The Cabinet \\n77. Meetings of the Cabinet \\n78. Ministers of State \\n79. Deputy Ministers \\n80. Oaths \\n81. Tenure of Office of Ministers, etc. \\n82. Vote of Censure \\nThe National Security Council  \\n83. The National Security Council \\n84. Functions of the National Security Council'), Document(metadata={'doc_type': 'constitution', 'total_pages': 161, 'chapter_title': 'Chapter 25', 'file_name': 'ghana_constitution.pdf'}, page_content='(Amendment) Act, 1996 , December 16, 1996. In each instance where the text has been altered \\nto integrate the amendment, the text has been [bracketed], highlighted, and linked  (through \\nthe endnote) to the amending article. \\n1 As amended by Section 1 , The Constitution of the Republic of Ghana (Amendment) Act, \\n1996. \\n2 As amended by Section 2 , The Constitution of the Republic of Ghana (Amendment) Act, \\n1996. \\n3 As amended by Section 3 , The Constitution of the Republic of Ghana (Amendment) Act, \\n1996. \\n4 As amended by Section 4 , The Constitution of the Republic of Ghana (Amendment) Act, \\n1996. \\n5 As amended by Section 5 , subsection (b) , The Constitution of the Republic of Ghana \\n(Amendment) Act, 1996. \\n6 As amended by Section 5 , subsection (a) , The Constitution of the Republic of Ghana \\n(Amendment) Act, 1996. \\n7 As amended by Section 5 , subsection (c) , The Constitution of the Republic of Ghana \\n(Amendment) Act, 1996.')]\n"
     ]
    }
   ],
   "source": [
    "demo_chatbot.launch()"
   ]
  },
  {
   "cell_type": "code",
   "execution_count": null,
   "id": "667da0f3",
   "metadata": {},
   "outputs": [],
   "source": []
  }
 ],
 "metadata": {
  "kernelspec": {
   "display_name": ".venv",
   "language": "python",
   "name": "python3"
  },
  "language_info": {
   "codemirror_mode": {
    "name": "ipython",
    "version": 3
   },
   "file_extension": ".py",
   "mimetype": "text/x-python",
   "name": "python",
   "nbconvert_exporter": "python",
   "pygments_lexer": "ipython3",
   "version": "3.10.11"
  }
 },
 "nbformat": 4,
 "nbformat_minor": 5
}
