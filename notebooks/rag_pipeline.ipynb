{
 "cells": [
  {
   "cell_type": "code",
   "execution_count": 34,
   "id": "d704d53f",
   "metadata": {},
   "outputs": [],
   "source": [
    "import openai\n",
    "from dotenv import load_dotenv\n",
    "import os\n",
    "from langchain.vectorstores import Chroma\n",
    "import gradio as gr\n",
    "from langchain_community.embeddings.sentence_transformer import SentenceTransformerEmbeddings"
   ]
  },
  {
   "cell_type": "code",
   "execution_count": 35,
   "id": "9a764689",
   "metadata": {},
   "outputs": [],
   "source": [
    "embedding_function = SentenceTransformerEmbeddings(model_name=\"all-MiniLM-L6-v2\")"
   ]
  },
  {
   "cell_type": "code",
   "execution_count": 36,
   "id": "d103f2a3",
   "metadata": {},
   "outputs": [],
   "source": [
    "vector_store = Chroma(\n",
    "    embedding_function=embedding_function,\n",
    "    persist_directory=\"../chroma\",\n",
    "    collection_name=\"osagyefo_v1\",\n",
    ")"
   ]
  },
  {
   "cell_type": "code",
   "execution_count": 37,
   "id": "f490324c",
   "metadata": {},
   "outputs": [],
   "source": [
    "retriever = vector_store.as_retriever(\n",
    "    search_type=\"mmr\",  # Maximal Marginal Relevance\n",
    "    search_kwargs={\"k\": 5, \"lambda_mult\": 0.5}\n",
    ")"
   ]
  },
  {
   "cell_type": "code",
   "execution_count": 38,
   "id": "4f29f277",
   "metadata": {},
   "outputs": [
    {
     "name": "stdout",
     "output_type": "stream",
     "text": [
      "1283\n"
     ]
    }
   ],
   "source": [
    "print(vector_store._collection.count())  "
   ]
  },
  {
   "cell_type": "code",
   "execution_count": 39,
   "id": "c4da7d41",
   "metadata": {},
   "outputs": [
    {
     "data": {
      "text/plain": [
       "[Document(metadata={'chapter_title': 'CHAPTER EIGHT', 'file_name': 'criminal offences act.pdf', 'doc_type': 'act', 'total_pages': 115}, page_content='CHAPTER EIGHT\\nPublic Nuisance\\nHindering Burials\\n285.   Hindering burial of dead body\\nA person who unlawfully hinders the burial of the d ead body of a person, or without lawful authority\\ndisinters, dissects or harms the dead body of a person, or being under a duty to cause the dead body of a\\nperson to be buried, fails to perform that duty commits a misdemeanour.\\nUnwholesome Food\\n286.   Selling unwholesome food\\nA person who sells, or prepares or offers for sale, as being fit for consumption as food or drink, a thing\\nwhich that person knows or has reason to believe that it is in a condition of putrefaction, adulteration, or\\nother cause, as to be likely to be noxious to health, commits a misdemeanour.\\nNoxious Trade\\n287.   Carrying on of noxious trade, interference with public rights\\nA person who, without lawful authority or excuse, the proof of which lies on that person,\\n            (a)      carries on a noxious, an offensive, or a noisy business at a place, or causes or permits a'),\n",
       " Document(metadata={'doc_type': 'act', 'file_name': 'criminal offences act.pdf', 'total_pages': 115, 'chapter_title': 'CHAPTER TWO'}, page_content='it by a voluntary act, done without the skill and care that are reasonably necessary under the\\ncircumstances.\\nIllustrations\\n            1.        A, a woman who does not have knowledge of mi dwifery, acts as a midwife, and through her\\nwant of skill she causes death. Here, if A knew that a properly qualified midwife or surgeon\\ncould be procured, the fact of A so acting without possessing proper sk ill and without a\\nnecessity for so acting, is evidence of neglig ence, although it appears that she did her best.\\nBut if the emergency was sudden, and a prope rly qualified midwife or surgeon could not be\\nprocured, A has not acted negligently, provided she d id the best she could under the\\ncircumstances.\\n              2.          A chemist sells poison so made up as to be liable to be mistaken for a harmless medicine.\\nThis is evidence of negligence.\\n              3.        If the law directs poisons to be sold only in bottles of a particular kind, and the chemist sells'),\n",
       " Document(metadata={'total_pages': 164, 'file_name': 'land-act-2020-act-1036.pdf', 'doc_type': 'act', 'chapter_title': 'Chapter One'}, page_content='liable on summary conviction to a fine of not less than five thousand penalty units and not more \\nthan ten thousand penalty units or a term of imprisonment of not less than five years and not \\nmore than ten years or to both. \\n(5) The provisions of the Head of Family (A ccountability) Act, 1985 (P.N.D.C.L. 114) apply \\nto this Act with the necessary modifications. \\n(6) Despite subsection (5), a person shall not bring an action under section 2 of the Head of \\nFamily Accountability Act, 1985 (P.N.D.C.L. 114) against the occupan t of a stool or skin, or \\nagainst a tendana, unless that person \\n19 \\n \\n(a)    has first exhausted the established customary procedure for making the occupant of the \\nstool or the skin or the tendana to render account or maintain records of the stool, skin or clan \\nlands, where a procedure exists; \\n(b)     is qualified under the relevant customary law to bring an action against the occupant; or'),\n",
       " Document(metadata={'total_pages': 115, 'chapter_title': 'CHAPTER FIVE', 'doc_type': 'act', 'file_name': 'criminal offences act.pdf'}, page_content='A person who abducts a child under eighteen years of age commits a misdemeanour.26(26)\\n92.   Definition of abduction\\n(1)  A person commits the criminal offence of abducti on of a child who with intent to deprive a person\\nentitled to the possession or control of the child or w ith intent to cause the child to be carnally known or\\nunnaturally carnally known by any other person\\n            (a)      unlawfully takes the child from the lawful possession, care or charge of a person, or\\n            (b)      detains the child and prevents the child fro m returning to the lawful possession, care or\\ncharge of a person.27(27)\\n(2)  The possession, control, care or charge of a child by a parent, guardian, or any other person\\ncontinues although the child is absent from actual possession, control, care, or charge, if the absence is for\\na special purpose only, and is not intended by  the parent, guardian, or the other person to exclude or'),\n",
       " Document(metadata={'total_pages': 161, 'chapter_title': 'Chapter but', 'file_name': 'ghana_constitution.pdf', 'doc_type': 'constitution'}, page_content='26. CULTURAL RIGHTS AND PRACTICES. \\n(1) Every person is entitled to enjoy, practise, profess, maintain and promote any culture, \\nlanguage, tradition or religion subject to the provisions of this Constitution. \\n(2) All customary practices which dehumanise or are injurious to the physical and mental \\nwell-being of a person are prohibited. \\n27. WOMEN’S RIGHTS. \\n(1) Special care shall be accorded to mothers during a reasonable period before and after \\nchild-birth; and during those periods, working mothers shall be accorded paid leave. \\n(2) Facilities shall be provided for the care of children below school-going age to enable \\nwomen, who have the traditional care for children, realise their full potential. \\n(3) Women shall be guaranteed equal rights to training and promotion without any \\nimpediments from any person. \\n28. CHILDREN’S RIGHTS. \\n(1) Parliament shall enact such laws as are necessary to ensure that—')]"
      ]
     },
     "execution_count": 39,
     "metadata": {},
     "output_type": "execute_result"
    }
   ],
   "source": [
    "retriever.get_relevant_documents(\"my mother did not give me food\")"
   ]
  },
  {
   "cell_type": "code",
   "execution_count": 40,
   "id": "ef4ee092",
   "metadata": {},
   "outputs": [],
   "source": [
    "load_dotenv(override=True)\n",
    "GROQ_API_KEY = os.getenv(\"GROQ_API_KEY\")\n",
    "TOGETHER_API_KEY = os.getenv(\"TOGETHER_API_KEY\")\n",
    "\n",
    "model_1 = \"gemma2-9b-it\"\n",
    "client1 = openai.OpenAI(\n",
    "    base_url=\"https://api.groq.com/openai/v1\",\n",
    "    api_key=os.environ.get(\"GROQ_API_KEY\"),\n",
    ")\n",
    "\n",
    "model_2 = \"meta-llama/Llama-3.3-70B-Instruct-Turbo-Free\"\n",
    "client2 = openai.OpenAI(\n",
    "  api_key=os.environ.get(\"TOGETHER_API_KEY\"),\n",
    "  base_url=\"https://api.together.xyz/v1\",\n",
    ")"
   ]
  },
  {
   "cell_type": "markdown",
   "id": "77eb7e08",
   "metadata": {},
   "source": [
    "PIPELINE"
   ]
  },
  {
   "cell_type": "code",
   "execution_count": 41,
   "id": "7b6f5ac0",
   "metadata": {},
   "outputs": [],
   "source": [
    "\"\"\"\n",
    "LLM 1 will rephrase every question into 3 different similar questions--gemma2-9b-it\n",
    "\n",
    "\"\"\"\n",
    "\n",
    "def rephrase_query(user_query):\n",
    "    pdf_path = \"../docs\"\n",
    "    prompt_path = \"../prompts/rephaser_llm_template.txt\"\n",
    "    \n",
    "    with open(prompt_path, \"r\", encoding=\"utf-8\") as f:\n",
    "        system_prompt = f.read().strip()\n",
    "        system_prompt += \"Your knowledge is limited strictly to the content of the following files:\"\n",
    "        for filename in os.listdir(pdf_path):\n",
    "            system_prompt += filename + \"\\n\"\n",
    "\n",
    "\n",
    "    message = [{'role': \"system\", \"content\": system_prompt}, {'role': \"system\", \"content\": user_query}]\n",
    "    rephrased_query = client1.chat.completions.create(model=model_1, messages=message)\n",
    "    rephrased_query = rephrased_query.choices[0].message.content\n",
    "\n",
    "    return rephrased_query"
   ]
  },
  {
   "cell_type": "code",
   "execution_count": 42,
   "id": "3f49f04f",
   "metadata": {},
   "outputs": [
    {
     "name": "stdout",
     "output_type": "stream",
     "text": [
      "['civil liability for vehicular accident', 'legal consequences of striking person with vehicle', 'liability under Ghanaian law for causing harm with motor vehicle'] \n",
      "\n"
     ]
    }
   ],
   "source": [
    "# test\n",
    "rephrased_query = rephrase_query(\"i mistakenly hit someone with my car\")\n",
    "print(rephrased_query)\n",
    "\n",
    "context = \"\" \n",
    "relevant_docs = retriever.get_relevant_documents(rephrased_query)\n",
    "\n",
    "for doc in relevant_docs:\n",
    "    context += f\"[Source: {doc.metadata['file_name']}, Chapter: {doc.metadata.get('chapter_title', 'N/A')}]\\n{doc.page_content}\\n\\n\""
   ]
  },
  {
   "cell_type": "code",
   "execution_count": 43,
   "id": "08f93af7",
   "metadata": {},
   "outputs": [
    {
     "data": {
      "text/plain": [
       "'[Source: ghana_constitution.pdf, Chapter: Chapter IV]\\nChapter IV\\n-The Laws of Ghana\\n\\n[Source: criminal offences act.pdf, Chapter: CHAPTER EIGHT]\\n(s)        in a town wilfully or negligently causes or pe rmits a vehicle, or a thing carried by the\\nvehicle, or cattle, to damage a drain, ditch, or trench, at the side of a street, or a bridge, or a\\npart of it respectively; or\\n            (t)        in a town, without the written consent of the local authority or the Ghana Highway\\nAuthority, wilfully displaces or takes up or damages the pavement, stones, or material of a\\npublic way, or attempts to change or obstruct an outer course; or91(91)\\n            (u)      assembles with other persons in a public place, or in an open space near a public place, for an\\nidle, a vicious, or a disorderly purpose, or ot herwise than in the regular performance, or in\\npursuance, of a lawful calling or object, to the annoyance or  obstruction of a passenger or\\nperson frequenting the public place, or of a person living in the neighbourhood of the public\\nplace or open space and does not move away when required by a constable; or\\n\\n[Source: criminal offences act.pdf, Chapter: Chapter comprising]\\n87 (Popup - Footnote)\\n87.        Amended by the Schedule to the Criminal Code (Amendment) Act, 1998 (Act 554).\\n88 (Popup - Footnote)\\n88.        By section 97 of the Posts and Telecommunications Corporation Decree, 1975 (N.R.C.D. 311).\\n89 (Popup - Footnote)\\n89.        Amended by section 19 of the Criminal Code (Amendment) Decree, 1969 (N.L.C.D. 298).\\n90 (Popup - Footnote)\\n90.        Amended by section 51 of the [Ghana] Highway Authority Decree, 1974 (N.L.C.D. 298).\\n91 (Popup - Footnote)\\n91.        Amended by section 51 of the [Ghana] Highway Authority Decree, 1974 (N.L.C.D. 298).\\n92 (Popup - Footnote)\\n92.        Amended by section 16 of the Criminal Code (Amendment) Act, 1998 (Act 554).\\n93 (Popup - Footnote)\\n93.        Amended by the Schedule to the Criminal Code (Amendment) Act, 1998 (Act 554).\\n94 (Popup - Footnote)\\n94.        Amended by the Schedule to the Criminal Code (Amendment) Act, 1998 (Act 554).\\n95 (Popup - Footnote)\\n\\n[Source: ghana_constitution.pdf, Chapter: CHAPTER EIGHT]\\neffective utilisation of available resources; and \\n(e) monitor, evaluate and co-ordinate development policies, programmes and projects. \\n(3) The Commission shall also perform such other functions relating to development planning \\nas the President may direct. \\nThe Attorney-General  \\n88. THE ATTORNEY-GENERAL. \\n(1) There shall be an Attorney-General of Ghana who shall be a Minister of State and the \\nprincipal legal adviser to the Government. \\n(2) The Attorney-General shall discharge such other duties of a legal nature as may be \\nreferred or assigned to him by the President, or imposed on him by this Constitution or any \\nother law. \\n(3) The Attorney-General shall be responsible for the initiation and conduct of all \\nprosecutions of criminal offences. \\n(4) All offences prosecuted in the name of the Republic of Ghana shall be at the suit of the \\nAttorney-General or any other person authorised by him in accordance with any law.\\n\\n[Source: ghana_constitution.pdf, Chapter: Chapter 11]\\nshall, on the coming into force of this Constitution, vest in the President or such other person \\nor authority as is specified under this Constitution who, subject to the provisions of this \\nConstitution or any other law, may do all things necessary for its exercise or performance; and \\n(b) any right, power, privilege, obligation, liability, duty or function vested in, or subsisting \\nagainst the Government of Ghana by or under an existing law shall continue to so vest or \\nsubsist. \\n34. INDEMNITY.  \\n(1) No member of the Provisional National Defence Council, Provisional National Defence \\nCouncil Secretary, or other appointees of the Provisional National Defence Council shall be \\nheld liable either jointly or severally, for any act or omission during the administration of the \\nProvisional National Defence Council. \\n(2) It is not lawful for any court or tribunal to entertain any action or take any decision or\\n\\n'"
      ]
     },
     "execution_count": 43,
     "metadata": {},
     "output_type": "execute_result"
    }
   ],
   "source": [
    "context"
   ]
  },
  {
   "cell_type": "code",
   "execution_count": 44,
   "id": "b94440cb",
   "metadata": {},
   "outputs": [],
   "source": [
    "def chat_osagyefo(user_query, history):\n",
    "    \n",
    "    prompt_path = \"../prompts/main_prompt_template.txt\"\n",
    "\n",
    "    rephrased_query = rephrase_query(user_query)\n",
    "    relevant_docs = retriever.get_relevant_documents(rephrased_query)\n",
    "\n",
    "    print(\"RELEVANT DOCS: \", relevant_docs)\n",
    "    context = ''\n",
    "    for doc in relevant_docs:\n",
    "        context += f\"[Source: {doc.metadata['file_name']}, Chapter: {doc.metadata.get('chapter_title', 'N/A')}]\\n{doc.page_content}\\n\\n\"\n",
    "\n",
    "    # loading the prompt\n",
    "    with open(prompt_path, \"r\", encoding=\"utf-8\") as f:\n",
    "        osagyefo_system_prompt = f.read().strip()\n",
    "    osagyefo_system_prompt += f\"Use the following context to answer:\\n{context}\"\n",
    "\n",
    "\n",
    "    history = [\n",
    "        {'role': h['role'], 'content': h['content'] }\n",
    "        for h in history\n",
    "        if 'role' in h and 'content' in h\n",
    "    ]\n",
    "\n",
    "    msg_to_model = [{\"role\": \"system\", \"content\": osagyefo_system_prompt}] + history + [{\"role\": \"user\", \"content\": user_query}]\n",
    "\n",
    "    model = client2.chat.completions.create(\n",
    "        model=model_2,\n",
    "        messages=msg_to_model,\n",
    "    )\n",
    "\n",
    "    osagyefo_response = model.choices[0].message.content\n",
    "    \n",
    "\n",
    "    history.append({\"role\": \"user\", \"content\": user_query})\n",
    "    history.append({\"role\": \"assistant\", \"content\": osagyefo_response})\n",
    "\n",
    "    print('history', history)\n",
    "    \n",
    "    return osagyefo_response"
   ]
  },
  {
   "cell_type": "code",
   "execution_count": 45,
   "id": "9e508445",
   "metadata": {},
   "outputs": [
    {
     "name": "stderr",
     "output_type": "stream",
     "text": [
      "c:\\Users\\DeLL\\Desktop\\anything_py\\osagyefo_ai\\.venv\\lib\\site-packages\\gradio\\chat_interface.py:339: UserWarning: The 'tuples' format for chatbot messages is deprecated and will be removed in a future version of Gradio. Please set type='messages' instead, which uses openai-style 'role' and 'content' keys.\n",
      "  self.chatbot = Chatbot(\n"
     ]
    }
   ],
   "source": [
    "demo_chatbot = gr.ChatInterface(chat_osagyefo,\n",
    "                                title=\"OSAGYEFO ESQ.\",\n",
    "                                description=\"Welcome! Put forth your legal challenges. \")"
   ]
  },
  {
   "cell_type": "code",
   "execution_count": null,
   "id": "ee9c199c",
   "metadata": {},
   "outputs": [
    {
     "name": "stdout",
     "output_type": "stream",
     "text": [
      "* Running on local URL:  http://127.0.0.1:7864\n",
      "* To create a public link, set `share=True` in `launch()`.\n"
     ]
    },
    {
     "data": {
      "text/html": [
       "<div><iframe src=\"http://127.0.0.1:7864/\" width=\"100%\" height=\"500\" allow=\"autoplay; camera; microphone; clipboard-read; clipboard-write;\" frameborder=\"0\" allowfullscreen></iframe></div>"
      ],
      "text/plain": [
       "<IPython.core.display.HTML object>"
      ]
     },
     "metadata": {},
     "output_type": "display_data"
    },
    {
     "data": {
      "text/plain": []
     },
     "execution_count": 46,
     "metadata": {},
     "output_type": "execute_result"
    },
    {
     "name": "stdout",
     "output_type": "stream",
     "text": [
      "RELEVANT DOCS:  [Document(metadata={'file_name': 'criminal offences act.pdf', 'chapter_title': 'CHAPTER TWO', 'doc_type': 'act', 'total_pages': 115}, page_content='CHAPTER TWO\\nMurder and Similar Offences\\nMurder and Manslaughter\\n46. Murder.\\n47. Definition of murder.\\n48. Attempt to commit murder.\\n49. Attempt to commit murder by convict.\\n49A. Genocide.\\n50. Manslaughter.\\n51. Definition of manslaughter.\\n52. Intentional murder reduced to manslaughter.\\n53. Provocation.\\n54. Exclusion of benefit of provocation.\\n55. Mistake as to matter of provocation.\\n56. Mistake as to person giving provocation.\\nSuicide and Abortion\\n57. Abetment of suicide.\\n58. Abortion or miscarriage.\\n59. Explanation as to causing abortion.\\nCausing Harm to Child at Birth and Concealment of Birth\\n60. Causing harm to child at birth.\\n61. Explanation as to causing harm to child at birth.\\n62. Concealment of body of child.\\n63. Explanation as to concealment of body of child.\\nSpecial Provisions relating to Murder\\n64. Causing death.\\n65. Abetment of murder.\\n66. Child as the object of murder.\\n67. Medical or surgical treatment.\\n68. Jurisdiction in certain cases of murder.'), Document(metadata={'file_name': 'criminal offences act.pdf', 'doc_type': 'act', 'chapter_title': 'CHAPTER THREE', 'total_pages': 115}, page_content='publication, that person took reasonable  measures to verify the accuracy of the statement, rumour or\\nreport.\\n209.   Discharging guns in town\\n(1)  A person commits a criminal offence and is liable to a fine not exceeding twenty five penalty units\\nwho in a town without lawful and necessary occasion\\n            (a)      discharges a firearm, or\\n            (b)      being the occupier of a house, building, or yard, knowingly permits a fire-arm to be\\ndischarged from that place.58(58)\\n(2)  A person who in a town, without lawful and necessary occasion, throws or sets fire to a firework\\nin a public place or in a house, building or yard, comm its a criminal offence and is liable to a fine not\\nexceeding five penalty units.59(59)'), Document(metadata={'total_pages': 115, 'chapter_title': 'CHAPTER FIVE', 'file_name': 'criminal offences act.pdf', 'doc_type': 'act'}, page_content='derangement the accused has a propensity to homicide.\\nParagraph (b)\\n            1.        A kills B by reason of an insane delusion that B is attempting to kill A. Here the jury will be\\njustified in finding that A is not a fit subject for punishment.\\n            2.        A is subject to insane delusions. In an interval of freedom from these delusions, A kills B.\\nHere the jury ought to take into account the fact that at other times A was subject to\\ndelusions.\\n28.   Criminal liability of an intoxicated person\\n(1)  Except as provided in this section, intoxication is not a defence to a criminal charge.\\n(2)  Intoxication is a defence to a criminal charge  if by reason of the intoxication the person charged,\\nat the time of the act complained of, did not know that the act was wrong or did not know what that\\nperson was doing and\\n            (a)      the state of intoxication was caused without the consent of that person by the malicious or\\nnegligent act of another person, or'), Document(metadata={'total_pages': 115, 'chapter_title': 'CHAPTER TWO', 'doc_type': 'act', 'file_name': 'criminal offences act.pdf'}, page_content='(b)      that there would be great risk of the act causing or contributing to cause an event,\\nintends, for the purposes of this section, to cause that event until it is shown that that person believed that\\nthe act would probably not cause or contribute to cause the event, or that there was not an intention to\\ncause or contribute to it.\\n(4)  A person who, intending to cause an event with r espect to one or any of several persons or things,\\nor to an indeterminate person or thing as may happen to be affected by the event, causes the event with\\nrespect to that person or thing, and is liable i n the same manner as if the inte ntion has been to cause the\\nevent with respect to that person or thing.\\n(5)  A person who does an act with intent to assault, harm, kill, or cause any other event to a particular\\nperson, which act takes effect, whether completely or incompletely, against a different person, is liable to'), Document(metadata={'doc_type': 'act', 'total_pages': 115, 'chapter_title': 'CHAPTER FOUR', 'file_name': 'criminal offences act.pdf'}, page_content='CHAPTER FOUR\\nAbetment and Conspiracy\\n20. Abetment of a criminal offence.\\n21. Abetment and the commission of a different criminal offence.\\n22. Duty to prevent a felony.\\n23. Conspiracy.\\n24. Punishment for conspiracy.\\n25. Harbouring criminal.')]\n",
      "history [{'role': 'user', 'content': 'i shot someone in the USA\\n'}, {'role': 'assistant', 'content': \"This is not legal advice: I can provide general information, but I'm not a licensed attorney, and my responses should not be considered personalized legal advice.\\n\\nAttorney-client privilege does not apply: Our conversation is not confidential or privileged, and it will only be used to evaluate my performance.\\n\\nJurisdiction matters: Since the incident occurred in the USA, the laws of Ghana, which I'm familiar with, do not apply. I strongly recommend consulting a qualified attorney in the United States who is familiar with the laws of the specific state where the incident occurred.\\n\\nTime-sensitive matters: Please be aware that there may be statutes of limitations or urgent legal deadlines that apply to your situation. It's essential to seek professional legal counsel as soon as possible to ensure you understand your rights and obligations.\\n\\nIn general, shooting someone can be considered a serious crime, potentially leading to charges such as assault, battery, or even murder, depending on the circumstances. However, the specifics of the incident, including the context, intent, and any potential defenses, would need to be carefully evaluated by a qualified attorney.\\n\\nI strongly advise you to consult with a licensed attorney in the United States who can provide you with guidance tailored to your specific situation and the applicable laws. They can help you understand your rights, potential defenses, and the best course of action to take.\\n\\nPlease prioritize seeking professional legal counsel to ensure you receive accurate and reliable advice.\"}]\n",
      "RELEVANT DOCS:  [Document(metadata={'doc_type': 'constitution', 'total_pages': 161, 'file_name': 'ghana_constitution.pdf', 'chapter_title': 'CHAPTER TWENTY'}, page_content='CHAPTER TWENTY\\n-THREE \\nCOMMISSIONS OF INQUIRY  \\n278. Appointment of Commission of Inquiry \\n279. Powers of Commission of Inquiry \\n280. Functions of Commission of Inquiry \\n281. Inquiry Procedure \\n282. Assistance by Lawyer or Other Expert \\n283. Immunities and Privileges of Witnesses'), Document(metadata={'file_name': 'land-act-2020-act-1036.pdf', 'doc_type': 'act', 'chapter_title': 'Chapter Two', 'total_pages': 164}, page_content='(a)  \\n<FORM_FIELD>……………………………………………\\n………………………………………………. \\n(b)  \\n<FORM_FIELD>……………………………………………\\n………………………………………………. \\n(c)  \\n<FORM_FIELD>……………………………………………\\n………………………………………………. \\n(d)  \\n<FORM_FIELD>……………………………………………\\n………………………………………………. \\n3. Nature of transaction (tick the appropriate transaction and endorse): \\nUsufructuary interest \\nSale \\nGift \\n122 \\n \\nTenancies (Partition, Abusa, Abunu, Abehyem etc.) \\nAssignment \\nMortgage \\nSowing tenure \\nOther (specify) \\n4. Full name and address of person whose consent is required: \\n(a)  \\n<FORM_FIELD>……………………………………………\\n………………………………………………. \\n(b)  \\n<FORM_FIELD>……………………………………………\\n………………………………………………. \\n(c)  \\n<FORM_FIELD>……………………………………………\\n………………………………………………. \\n(d)  \\n<FORM_FIELD>……………………………………………\\n………………………………………………. \\n5. Full name and address of person who has given consent: \\n(a)  \\n<FORM_FIELD>……………………………………………\\n………………………………………………. \\n(b)  \\n<FORM_FIELD>……………………………………………\\n………………………………………………. \\n(c)  \\n<FORM_FIELD>……………………………………………\\n………………………………………………. \\n(d)'), Document(metadata={'file_name': 'criminal offences act.pdf', 'total_pages': 115, 'chapter_title': 'CHAPTER TEN', 'doc_type': 'act'}, page_content='command, search a ship or boat hovering about or approaching, or wh ich may have hovered about or\\napproached, a ship of the Republic and may seize the liquor found on her, which shall be forfeited to the\\nRepublic.\\n(3)  An officer or a warrant or petty or non-commi ssioned officer, or a constable, may without warrant\\narrest and detain a person found committing a criminal  offence under this section, and take that person\\nbefore a Magistrate or a Justice to be dealt with according to law.\\nLetters, Telegrams\\n312.   Letter written for illiterate person\\n(1)  A person who writes a letter or petition at the re quest or in the name of an illiterate person shall\\nwrite on the letter or petition that person’s name and address.\\n(2)  The writing of the name and address on the letter or petition implies a statement\\n            (a)      that the letter or petition was written on the instructions of the illiterate person, and'), Document(metadata={'file_name': 'criminal offences act.pdf', 'doc_type': 'act', 'chapter_title': 'Chapter comprising', 'total_pages': 115}, page_content='that a person shall not be tried without the consent of a Superior Police Officer. In view, however, of clause (4) of\\narticle 88 of the Constitution, the word “arrested” has been substituted for the word “tried”.\\n75 (Popup - Footnote)\\n75.        Substituted by section 16 of the Criminal Code (Amendment) Decree, 1969 (N.L.C.D. 398).\\n76 (Popup - Footnote)\\n76.        Inserted by the Criminal Code (Amendment) Law, 1984 (P.N.D.C.L. 90).\\n77 (Popup - Footnote)\\n77.        Amended by section 15 of the Criminal Code (Amendment) Act, 1998 (Act 554).\\n78 (Popup - Footnote)\\n78.        Amended by section 17 of the Criminal Code (Amendment) Decree, 1969 (N.L.C.D. 398) and further\\namended by the Schedule to the Criminal Code (Amendment) Act, 1998 (Act 554).\\n79 (Popup - Footnote)\\n79.        Amended by the Schedule to the Criminal Code (Amendment) Act, 1998 (Act 554).\\n80 (Popup - Footnote)\\n80.        Amended by the Schedule to the Criminal Code (Amendment) Act, 1998 (Act 554).\\n81 (Popup - Footnote)'), Document(metadata={'file_name': 'ghana_constitution.pdf', 'total_pages': 161, 'doc_type': 'constitution', 'chapter_title': 'CHAPTER TEN'}, page_content='Parliament first meets after a dissolution of Parliament and if the office becomes vacant \\notherwise than by reason of a dissolution of Parliament, at the first sitting of Parliament after \\nthe office becomes vacant.  \\n(3) The provisions of clause (2) of article 95 of this Constitution shall apply in the case of a \\nDeputy Speaker. \\n97. TENURE OF OFFICE OF MEMBERS. \\n(1) A member of Parliament shall vacate his seat in Parliament— \\n(a) upon a dissolution of Parliament; or \\n(b) if he is elected as Speaker of Parliament; or  \\n(c) if he is absent, without the permission in writing of the Speaker and he is unable to offer a \\nreasonable explanation to the Parliamentary Committee on Privileges from fifteen sittings of a \\nmeeting of Parliament during any period that Parliament has been summoned to meet and \\ncontinues to meet; or \\n(d) if he is expelled from Parliament after having been found guilty of contempt of Parliament \\nby a committee of Parliament; or')]\n",
      "history [{'role': 'user', 'content': 'what was the last question i asked'}, {'role': 'assistant', 'content': \"This is not legal advice: You didn't ask a question yet, so I'm ready to provide general legal information based on the provided context. \\n\\nPlease note that attorney-client privilege does not apply to our conversation, and I'll only use our chat to evaluate my performance. Since laws vary by location, I'll stick to Ghanaian laws as per the context. \\n\\nIf you have a specific question or concern, I'll do my best to explain key legal concepts, describe typical procedures, and provide information about common rights and obligations. However, for personalized advice, I recommend consulting a qualified attorney. \\n\\nRemember that time-sensitive matters may have statutes of limitations or urgent deadlines, so it's essential to act quickly when necessary. \\n\\nWhat's your question, and how can I assist you today?\"}]\n"
     ]
    }
   ],
   "source": [
    "demo_chatbot.launch()"
   ]
  },
  {
   "cell_type": "code",
   "execution_count": null,
   "id": "667da0f3",
   "metadata": {},
   "outputs": [],
   "source": []
  }
 ],
 "metadata": {
  "kernelspec": {
   "display_name": ".venv",
   "language": "python",
   "name": "python3"
  },
  "language_info": {
   "codemirror_mode": {
    "name": "ipython",
    "version": 3
   },
   "file_extension": ".py",
   "mimetype": "text/x-python",
   "name": "python",
   "nbconvert_exporter": "python",
   "pygments_lexer": "ipython3",
   "version": "3.10.11"
  }
 },
 "nbformat": 4,
 "nbformat_minor": 5
}
